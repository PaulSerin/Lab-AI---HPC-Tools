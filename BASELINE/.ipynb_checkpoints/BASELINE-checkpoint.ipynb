{
 "cells": [
  {
   "cell_type": "markdown",
   "metadata": {
    "id": "bBXHKtr84syG"
   },
   "source": [
    "# ***Paul SERIN***\n",
    "# *HPC TOOLS : Deliverable 1*"
   ]
  },
  {
   "cell_type": "markdown",
   "metadata": {
    "id": "X55oFpqzd78h"
   },
   "source": [
    "## ***Step 1:*** Import libraries"
   ]
  },
  {
   "cell_type": "code",
   "execution_count": 1,
   "metadata": {},
   "outputs": [],
   "source": [
    "import json\n",
    "from pathlib import Path\n",
    "import torch\n",
    "from torch.utils.data import DataLoader\n",
    "import time\n",
    "from tqdm import tqdm"
   ]
  },
  {
   "cell_type": "markdown",
   "metadata": {
    "id": "9G6iYKZ7gRWr"
   },
   "source": [
    "## ***Step 2:*** Retrieve and Store the data"
   ]
  },
  {
   "cell_type": "markdown",
   "metadata": {
    "id": "XjZ1sdQVhCVf"
   },
   "source": [
    "Here I take and store the texts, queries and answers from the train and validation .json files. If we look carefully we will see that in these files there are a number of queries and answers for each passage. I save these informations into lists."
   ]
  },
  {
   "cell_type": "code",
   "execution_count": 2,
   "metadata": {
    "colab": {
     "base_uri": "https://localhost:8080/"
    },
    "id": "6b2EMVb-fhwA",
    "outputId": "2635a5d6-e8ee-46df-cfe2-3f57c0170d1f"
   },
   "outputs": [],
   "source": [
    "pathTrainData = \"./data/train-v2.0.json\"\n",
    "pathTestData =  \"./data/dev-v2.0.json\"\n",
    "\n",
    "def load_data(file_path):\n",
    "    \"\"\"Charge et retourne les contextes, questions et réponses depuis un fichier JSON.\"\"\"\n",
    "    with open(file_path, \"r\") as f:\n",
    "        data = json.load(f)\n",
    "\n",
    "    contexts = []\n",
    "    questions = []\n",
    "    answers = []\n",
    "\n",
    "    for group in data['data']:\n",
    "        for passage in group['paragraphs']:\n",
    "            context = passage['context']\n",
    "            for qa in passage['qas']:\n",
    "                question = qa['question']\n",
    "                for answer in qa['answers']:\n",
    "                    contexts.append(context)\n",
    "                    questions.append(question)\n",
    "                    answers.append(answer)\n",
    "    \n",
    "    return contexts, questions, answers\n",
    "\n",
    "train_contexts, train_questions, train_answers = load_data(pathTrainData)\n",
    "test_contexts, test_questions, test_answers = load_data(pathTestData)"
   ]
  },
  {
   "cell_type": "markdown",
   "metadata": {
    "id": "PEN89d8Mjlw3"
   },
   "source": [
    "## ***Step 3:*** Check the data"
   ]
  },
  {
   "cell_type": "markdown",
   "metadata": {
    "id": "2vsBYrSpkOB6"
   },
   "source": [
    "As you can see we have 86821 passages, queries and answers from the training data. The answer is stored in a dictionary with the specific answer in the \"text\" cell and the accurate character index that the answer is started in cell \"answer start\". As we observe, is missing the information about the exact index of the character that the answer is ending."
   ]
  },
  {
   "cell_type": "code",
   "execution_count": 3,
   "metadata": {
    "colab": {
     "base_uri": "https://localhost:8080/"
    },
    "id": "w3f9hbvMjJ1b",
    "outputId": "79d8b810-bf58-45ff-f502-3d6b6bd14470"
   },
   "outputs": [
    {
     "name": "stdout",
     "output_type": "stream",
     "text": [
      "86821\n",
      "86821\n",
      "86821\n"
     ]
    }
   ],
   "source": [
    "print(len(train_contexts))\n",
    "print(len(train_questions))\n",
    "print(len(train_answers))"
   ]
  },
  {
   "cell_type": "code",
   "execution_count": 4,
   "metadata": {
    "colab": {
     "base_uri": "https://localhost:8080/"
    },
    "id": "xPrlBV3hkJSe",
    "outputId": "825e5b5f-52e1-4bd2-8ab5-0fae0a821cf0"
   },
   "outputs": [
    {
     "name": "stdout",
     "output_type": "stream",
     "text": [
      "Passage:  Beyoncé Giselle Knowles-Carter (/biːˈjɒnseɪ/ bee-YON-say) (born September 4, 1981) is an American singer, songwriter, record producer and actress. Born and raised in Houston, Texas, she performed in various singing and dancing competitions as a child, and rose to fame in the late 1990s as lead singer of R&B girl-group Destiny's Child. Managed by her father, Mathew Knowles, the group became one of the world's best-selling girl groups of all time. Their hiatus saw the release of Beyoncé's debut album, Dangerously in Love (2003), which established her as a solo artist worldwide, earned five Grammy Awards and featured the Billboard Hot 100 number-one singles \"Crazy in Love\" and \"Baby Boy\".\n",
      "Query:  When did Beyonce start becoming popular?\n",
      "Answer:  {'text': 'in the late 1990s', 'answer_start': 269}\n"
     ]
    }
   ],
   "source": [
    "print(\"Passage: \",train_contexts[0])\n",
    "print(\"Query: \",train_questions[0])\n",
    "print(\"Answer: \",train_answers[0])"
   ]
  },
  {
   "cell_type": "markdown",
   "metadata": {
    "id": "6JCAvOgalXbh"
   },
   "source": [
    "As you can see we have 20302 passages, queries and answers from the validation data"
   ]
  },
  {
   "cell_type": "code",
   "execution_count": 5,
   "metadata": {
    "colab": {
     "base_uri": "https://localhost:8080/"
    },
    "id": "bMs6opQPlLBE",
    "outputId": "d53e864e-cbfd-48e9-a505-e0959aa9d7f0"
   },
   "outputs": [
    {
     "name": "stdout",
     "output_type": "stream",
     "text": [
      "20302\n",
      "20302\n",
      "20302\n"
     ]
    }
   ],
   "source": [
    "print(len(test_contexts))\n",
    "print(len(test_questions))\n",
    "print(len(test_answers))"
   ]
  },
  {
   "cell_type": "code",
   "execution_count": 6,
   "metadata": {
    "colab": {
     "base_uri": "https://localhost:8080/"
    },
    "id": "FBf0eNdblL_P",
    "outputId": "e155e347-7880-4fa2-d647-074ee09c90d9"
   },
   "outputs": [
    {
     "name": "stdout",
     "output_type": "stream",
     "text": [
      "Passage:  The Normans (Norman: Nourmands; French: Normands; Latin: Normanni) were the people who in the 10th and 11th centuries gave their name to Normandy, a region in France. They were descended from Norse (\"Norman\" comes from \"Norseman\") raiders and pirates from Denmark, Iceland and Norway who, under their leader Rollo, agreed to swear fealty to King Charles III of West Francia. Through generations of assimilation and mixing with the native Frankish and Roman-Gaulish populations, their descendants would gradually merge with the Carolingian-based cultures of West Francia. The distinct cultural and ethnic identity of the Normans emerged initially in the first half of the 10th century, and it continued to evolve over the succeeding centuries.\n",
      "Query:  In what country is Normandy located?\n",
      "Answer:  {'text': 'France', 'answer_start': 159}\n"
     ]
    }
   ],
   "source": [
    "print(\"Passage: \",test_contexts[0])\n",
    "print(\"Query: \",test_questions[0])\n",
    "print(\"Answer: \",test_answers[0])"
   ]
  },
  {
   "cell_type": "markdown",
   "metadata": {
    "id": "79TEci2gnAP4"
   },
   "source": [
    "## ***Step 4:*** Find the end position character"
   ]
  },
  {
   "cell_type": "markdown",
   "metadata": {
    "id": "dU73Dn5TnJvP"
   },
   "source": [
    "Because Bert model needs both start and end position characters of the answer, I have to find it and store it for later. Sometimes, I notice that SQuAD anwers \"eat\" one or two characters from the real answer in the passage. For example, (as a colleague said in Piazza) for the word \"sixth\" in passage, SQuAD give the answer of \"six\". So in these cases I select to handle this problem by \"cutting\" the passage by 1 or 2 characters to be the same as the given answer. This strategy is because BERT works with ***tokens*** of a specific format so I needed to process the squad dataset to keep up with the input that BERT is waiting for."
   ]
  },
  {
   "cell_type": "markdown",
   "metadata": {
    "id": "kNAThgIvq_4S"
   },
   "source": [
    "Find end position character in train data"
   ]
  },
  {
   "cell_type": "code",
   "execution_count": 7,
   "metadata": {
    "id": "qlexBsEcnI77"
   },
   "outputs": [],
   "source": [
    "def adjust_answer_indices(answers, contexts):\n",
    "    \"\"\"\n",
    "    Adjust the start and end indices of answers to ensure they correctly align\n",
    "    with the context text. It handles cases where the actual answer might differ\n",
    "    by one or two characters from the indexed position.\n",
    "    \n",
    "    Parameters:\n",
    "    answers (list): List of answer dictionaries containing 'text' and 'answer_start'.\n",
    "    contexts (list): List of context strings from which the answers are extracted.\n",
    "    \"\"\"\n",
    "    for answer, context in zip(answers, contexts):\n",
    "        real_answer = answer['text']\n",
    "        start_idx = answer['answer_start']\n",
    "        end_idx = start_idx + len(real_answer)  # Calculate the end index\n",
    "\n",
    "        # Check if the real answer matches the exact indexed position\n",
    "        if context[start_idx:end_idx] == real_answer:\n",
    "            answer['answer_end'] = end_idx\n",
    "        # Handle case where the real answer is off by one character\n",
    "        elif context[start_idx-1:end_idx-1] == real_answer:\n",
    "            answer['answer_start'] = start_idx - 1\n",
    "            answer['answer_end'] = end_idx - 1\n",
    "        # Handle case where the real answer is off by two characters\n",
    "        elif context[start_idx-2:end_idx-2] == real_answer:\n",
    "            answer['answer_start'] = start_idx - 2\n",
    "            answer['answer_end'] = end_idx - 2\n",
    "\n",
    "# Adjust the indices for both training and test sets\n",
    "adjust_answer_indices(train_answers, train_contexts)\n",
    "adjust_answer_indices(test_answers, test_contexts)\n"
   ]
  },
  {
   "cell_type": "markdown",
   "metadata": {
    "id": "83nKp3c5tU7A"
   },
   "source": [
    "## ***Step 5:*** Tokenize passages and queries"
   ]
  },
  {
   "cell_type": "markdown",
   "metadata": {
    "id": "boxZGej3t17f"
   },
   "source": [
    "In this task is asked to select the BERT-base pretrained model “bert-base-uncased” for the tokenization"
   ]
  },
  {
   "cell_type": "code",
   "execution_count": 8,
   "metadata": {
    "colab": {
     "base_uri": "https://localhost:8080/",
     "height": 304,
     "referenced_widgets": [
      "eab5087ada3347758d4568411b711ec1",
      "5a1d629084f543f29416c5d788528c19",
      "08e94d5b52664e0da48cc5f8eebb0389",
      "a258654d3efd4a6eb83b6175192f67d7",
      "1b3f148b792f4e1192a041427f8d7ce0",
      "3786a5d664d24388a4ed7fb3be5993e9",
      "c11fabd29c854b94a7736a769449aba0",
      "4b6b3d110058477aae5c7da55f908538",
      "8d29c6843c1f4e9ebdb2b3ed90bf4bdd",
      "c08e6202ab7040dd92d4bd4b71f33602",
      "c8764271275b493093691c9e18467deb",
      "d5b02a1af03543b4bdfc59aa85fef38a",
      "a247c7ac279f40b8ade5909a39ac9a6d",
      "ff9218410a2740df8b5a068b721dc8e0",
      "c72da340f37a4e288b7a4d83f180fd91",
      "682f25f297564a4085b5d2a5c94a5925",
      "beb0d3f213d1437bbd8ed23d667cb237",
      "f7e8892b81a5415b85844a2ddf503dd1",
      "dbb7ded42bf443998c989e8d9f735f42",
      "16d6f0af23d149d8ae84e5391c9304ab",
      "95c87735add34c4687d22a06c4ee8f32",
      "74eec01c1fea4eefbd1c2678a71a6ac1",
      "513e6346bb4041859a8c42c946f2b598",
      "222392bcea65465999bedfa4ad41edbe",
      "a8a47b1bf4d34e3db2b683f812687cc6",
      "2f217499f66d4a9db06ae97bede41a9e",
      "f1d2e55a528c44eb804ab67b75462799",
      "86b84953ac2341f496812b769c2a5317",
      "0e0ce15ecc0b4094a63e68b9d88dc17b",
      "d8bf33568079426e9b9a479c3fb865f8",
      "31885fb5dc314252bda6594e50cba281",
      "eeb504a49d884e91a2e400000b324475",
      "ed527609be714165895382af26616fbf",
      "f6d657a772594014a38eb8bccb211ea5",
      "b4c3d5591df1419687ae3f60d45367e0",
      "47dc552c3e2c427aac519d80feb08675",
      "81574c1649f948df98b111c397896cd8",
      "e1112437c6f64d30bb35dce368150ba4",
      "9829bd7a48254abbb2a700507b11b0f3",
      "512721b34f524ccda3bd6a90e24b6a30",
      "2fcd08b25a694ebaa34caa0bde5fe00c",
      "4a932c66bb584241b4075d0602042b82",
      "001a5572ed9b47dd80f577448574d051",
      "9d3776ee4a1142eeaa7cde4c975358e5"
     ]
    },
    "id": "-dncUoMhtpWj",
    "outputId": "9cfc5dcd-ae80-41c4-aa85-39e1f49fcb33"
   },
   "outputs": [],
   "source": [
    "import warnings\n",
    "warnings.filterwarnings(\"ignore\")\n",
    "from transformers import AutoTokenizer,AdamW,BertForQuestionAnswering\n",
    "tokenizer = AutoTokenizer.from_pretrained(\"bert-base-uncased\")\n",
    "\n",
    "train_encodings = tokenizer(\n",
    "    train_contexts, \n",
    "    train_questions, \n",
    "    truncation=True, \n",
    "    padding=True, \n",
    "    # clean_up_tokenization_spaces=True  # Delete warning\n",
    ")\n",
    "\n",
    "test_encodings = tokenizer(\n",
    "    test_contexts, \n",
    "    test_questions, \n",
    "    truncation=True, \n",
    "    padding=True, \n",
    "    # clean_up_tokenization_spaces=True \n",
    ")\n"
   ]
  },
  {
   "cell_type": "markdown",
   "metadata": {
    "id": "WHaETr5izn0t"
   },
   "source": [
    "## ***Step 6:*** Convert the start-end positions to tokens start-end positions"
   ]
  },
  {
   "cell_type": "code",
   "execution_count": 9,
   "metadata": {
    "colab": {
     "base_uri": "https://localhost:8080/"
    },
    "id": "VHDTX4HZzN3e",
    "outputId": "f0c39a16-e74c-4a0f-9918-a928764e7b1f"
   },
   "outputs": [
    {
     "name": "stdout",
     "output_type": "stream",
     "text": [
      "10\n",
      "16\n"
     ]
    }
   ],
   "source": [
    "def add_token_positions(encodings, answers):\n",
    "  start_positions = []\n",
    "  end_positions = []\n",
    "\n",
    "  count = 0\n",
    "\n",
    "  for i in range(len(answers)):\n",
    "    start_positions.append(encodings.char_to_token(i, answers[i]['answer_start']))\n",
    "    end_positions.append(encodings.char_to_token(i, answers[i]['answer_end']))\n",
    "\n",
    "    # if start position is None, the answer passage has been truncated\n",
    "    if start_positions[-1] is None:\n",
    "      start_positions[-1] = tokenizer.model_max_length\n",
    "\n",
    "    # if end position is None, the 'char_to_token' function points to the space after the correct token, so add - 1\n",
    "    if end_positions[-1] is None:\n",
    "      end_positions[-1] = encodings.char_to_token(i, answers[i]['answer_end'] - 1)\n",
    "      # if end position is still None the answer passage has been truncated\n",
    "      if end_positions[-1] is None:\n",
    "        count += 1\n",
    "        end_positions[-1] = tokenizer.model_max_length\n",
    "\n",
    "  print(count)\n",
    "\n",
    "  # Update the data in dictionary\n",
    "  encodings.update({'start_positions': start_positions, 'end_positions': end_positions})\n",
    "\n",
    "add_token_positions(train_encodings, train_answers)\n",
    "add_token_positions(test_encodings, test_answers)"
   ]
  },
  {
   "cell_type": "markdown",
   "metadata": {
    "id": "G0UnrxsD4rpZ"
   },
   "source": [
    "I observed that after tokenize the end position character, sometimes was still None. This happended only for 10 answers in train data (of total 86821) and 16 answers in validation data (of total 20302). So I decided to move the answer 1 position left. If it was still None then I give them the model_max_length as before. I have to refer that I was trying to see if the answers in this case was 1 postition after (so I added +1 to the end position) or 2 positions left or right (+/- 2 positions), but the answers that there are still None was more (ie 526, while with this code there only 10). So I kept this strategy in the end, in order to have as less as possible \"burned\" answers."
   ]
  },
  {
   "cell_type": "markdown",
   "metadata": {
    "id": "6JNdLyE97io2"
   },
   "source": [
    "## ***Step 7:*** Create a Dataset class"
   ]
  },
  {
   "cell_type": "markdown",
   "metadata": {
    "id": "iU4mORGW7ttP"
   },
   "source": [
    "Create a Squatdataset class (inherits from torch.utils.data.Dataset), that helped me to train and validate my previous data more easily and convert encodings to datasets."
   ]
  },
  {
   "cell_type": "code",
   "execution_count": 10,
   "metadata": {
    "id": "FjYzrXas3yhy"
   },
   "outputs": [],
   "source": [
    "class SquadDataset(torch.utils.data.Dataset):\n",
    "    def __init__(self, encodings):\n",
    "        self.encodings = encodings\n",
    "\n",
    "    def __getitem__(self, idx):\n",
    "        return {key: torch.tensor(val[idx]) for key, val in self.encodings.items()}\n",
    "\n",
    "    def __len__(self):\n",
    "        return len(self.encodings.input_ids)"
   ]
  },
  {
   "cell_type": "code",
   "execution_count": 11,
   "metadata": {
    "id": "fHGYpU8x8GCT"
   },
   "outputs": [],
   "source": [
    "train_dataset = SquadDataset(train_encodings)\n",
    "test_dataset = SquadDataset(test_encodings)"
   ]
  },
  {
   "cell_type": "markdown",
   "metadata": {
    "id": "RAISuNeC8r7q"
   },
   "source": [
    "## ***Step 8:*** Use of DataLoader"
   ]
  },
  {
   "cell_type": "markdown",
   "metadata": {
    "id": "QegfQoBz832o"
   },
   "source": [
    "I put my previous data to DataLoader, so as to split them in \"pieces\" of 8 batch size. I will explain the selection of this value of batch size later."
   ]
  },
  {
   "cell_type": "code",
   "execution_count": 12,
   "metadata": {
    "id": "XCohXB_R8HkC"
   },
   "outputs": [],
   "source": [
    "train_loader = DataLoader(train_dataset, batch_size=8, shuffle=True)\n",
    "test_loader = DataLoader(test_dataset, batch_size=8, shuffle=True)\n",
    "\n",
    "small_train_loader = torch.utils.data.DataLoader(\n",
    "    train_dataset,\n",
    "    batch_size=16,\n",
    "    sampler=torch.utils.data.SubsetRandomSampler(range(int(0.1 * len(train_dataset))))\n",
    ")\n",
    "\n",
    "small_test_loader = torch.utils.data.DataLoader(\n",
    "    train_dataset,\n",
    "    batch_size=16,\n",
    "    sampler=torch.utils.data.SubsetRandomSampler(range(int(0.1 * len(test_dataset))))\n",
    ")"
   ]
  },
  {
   "cell_type": "markdown",
   "metadata": {
    "id": "M58QEXOB9nfF"
   },
   "source": [
    "## ***Step 9:*** Use GPU"
   ]
  },
  {
   "cell_type": "code",
   "execution_count": 13,
   "metadata": {
    "id": "N12rPAE39QS0"
   },
   "outputs": [
    {
     "name": "stdout",
     "output_type": "stream",
     "text": [
      "Using GPU: NVIDIA A100-PCIE-40GB\n",
      "GPU Device Index: 0\n",
      "Number of GPUs: 1\n"
     ]
    }
   ],
   "source": [
    "device = torch.device('cuda:0' if torch.cuda.is_available()\n",
    "                      else 'cpu')\n",
    "\n",
    "if device.type == 'cuda':\n",
    "    print(f\"Using GPU: {torch.cuda.get_device_name(device)}\")\n",
    "    print(f\"GPU Device Index: {torch.cuda.current_device()}\")\n",
    "    print(f\"Number of GPUs: {torch.cuda.device_count()}\")\n",
    "else:\n",
    "    print(\"Using CPU\")"
   ]
  },
  {
   "cell_type": "markdown",
   "metadata": {
    "id": "ctnv1lVt-Na_"
   },
   "source": [
    "## ***Step 10:*** Build the Bert model"
   ]
  },
  {
   "cell_type": "markdown",
   "metadata": {
    "id": "SS8klUwRBNbT"
   },
   "source": [
    "I select BertForQuestionAnswering from transformers library, as it was the most relative with this task. When we instantiate a model with from_pretrained(), the model configuration and pre-trained weights of the specified model are used to initialize the model. Moreover, I used the PyTorch optimizer of AdamW which implements gradient bias correction as well as weight decay.\n",
    "\n"
   ]
  },
  {
   "cell_type": "code",
   "execution_count": 14,
   "metadata": {
    "colab": {
     "base_uri": "https://localhost:8080/"
    },
    "id": "unmSIjkW-ZEH",
    "outputId": "a937dcfd-1d6f-4c9a-f6e8-b423c75367ae"
   },
   "outputs": [
    {
     "name": "stderr",
     "output_type": "stream",
     "text": [
      "Some weights of BertForQuestionAnswering were not initialized from the model checkpoint at bert-base-uncased and are newly initialized: ['qa_outputs.bias', 'qa_outputs.weight']\n",
      "You should probably TRAIN this model on a down-stream task to be able to use it for predictions and inference.\n"
     ]
    }
   ],
   "source": [
    "model = BertForQuestionAnswering.from_pretrained('bert-base-uncased').to(device)\n",
    "\n",
    "# optimizer = optim.SGD(model.parameters(), lr=0.001, momentum=0.9)\n",
    "optim = AdamW(model.parameters(), lr=5e-5)\n",
    "# optim = AdamW(model.parameters(), lr=3e-5)\n",
    "# optim = AdamW(model.parameters(), lr=2e-5)\n",
    "\n",
    "epochs = 2\n",
    "# epochs = 3\n",
    "# epochs = 4"
   ]
  },
  {
   "cell_type": "markdown",
   "metadata": {
    "id": "nhO97SXJe0L9"
   },
   "source": [
    "This message is a warning that I should fine tune my model before I test it, in order to have a good performance."
   ]
  },
  {
   "cell_type": "markdown",
   "metadata": {
    "id": "Qe29xEPB_DvT"
   },
   "source": [
    "## ***Step 11:*** Train and Evaluate Model"
   ]
  },
  {
   "cell_type": "markdown",
   "metadata": {
    "id": "DiDsJMN___OQ"
   },
   "source": [
    "Training of model was done exactly as in the previous projects."
   ]
  },
  {
   "cell_type": "code",
   "execution_count": 21,
   "metadata": {},
   "outputs": [],
   "source": [
    "def train_model(model, train_loader, optimizer, device, epochs=1, print_every=500):\n",
    "    \"\"\"\n",
    "    Train the model for a given number of epochs and print the loss during the training process.\n",
    "    \n",
    "    Parameters:\n",
    "    - model: The model to be trained.\n",
    "    - train_loader: The DataLoader for training data.\n",
    "    - optimizer: Optimizer used for training.\n",
    "    - device: The device (CPU/GPU) on which to train the model.\n",
    "    - epochs: Number of epochs to train the model (default=1).\n",
    "    - print_every: Interval of batches to print the training status (default=100).\n",
    "    \n",
    "    Returns:\n",
    "    - train_losses: List of average losses per epoch.\n",
    "    \"\"\"\n",
    "    model.train()\n",
    "    train_losses = []\n",
    "    \n",
    "    total_train_time = time.time()  # Start timing the entire training process\n",
    "\n",
    "    for epoch in range(epochs):\n",
    "        epoch_time = time.time()\n",
    "        total_loss = 0\n",
    "        \n",
    "        print(f\"\\n############ Train Epoch {epoch + 1} ############\")\n",
    "        for batch_idx, batch in enumerate(tqdm(train_loader)):\n",
    "            optimizer.zero_grad()\n",
    "            \n",
    "            input_ids = batch['input_ids'].to(device)\n",
    "            attention_mask = batch['attention_mask'].to(device)\n",
    "            start_positions = batch['start_positions'].to(device)\n",
    "            end_positions = batch['end_positions'].to(device)\n",
    "\n",
    "            outputs = model(input_ids, attention_mask=attention_mask, start_positions=start_positions, end_positions=end_positions)\n",
    "            loss = outputs[0]\n",
    "            \n",
    "            loss.backward()\n",
    "            optimizer.step()\n",
    "\n",
    "            total_loss += loss.item()\n",
    "\n",
    "            if (batch_idx + 1) % print_every == 0:\n",
    "                print(f\"Batch {batch_idx + 1} / {len(train_loader)}, Loss: {round(loss.item(), 1)}\")\n",
    "        \n",
    "        avg_loss = total_loss / len(train_loader)\n",
    "        train_losses.append(avg_loss)\n",
    "        print(f\"Epoch {epoch + 1} finished. Training Loss: {avg_loss}, Time: {time.time() - epoch_time}\\n\")\n",
    "\n",
    "    total_train_time = time.time() - total_train_time \n",
    "    minutes = total_train_time // 60\n",
    "    seconds = total_train_time % 60\n",
    "    print(f\"Total Training Time: {int(minutes)} minutes {seconds:.2f} seconds\")\n",
    "\n",
    "    return train_losses\n",
    "\n",
    "\n",
    "def evaluate_model(model, eval_loader, device, print_every=500):\n",
    "    \"\"\"\n",
    "    Evaluate the model on the evaluation dataset.\n",
    "    \n",
    "    Parameters:\n",
    "    - model: The model to be evaluated.\n",
    "    - eval_loader: The DataLoader for evaluation data.\n",
    "    - device: The device (CPU/GPU) on which to evaluate the model.\n",
    "    - print_every: Interval of batches to print the evaluation status (default=1000).\n",
    "    \n",
    "    Returns:\n",
    "    - eval_losses: List of average losses per evaluation.\n",
    "    \"\"\"\n",
    "    model.eval()\n",
    "    eval_losses = []\n",
    "    total_loss = 0\n",
    "    \n",
    "    total_eval_time = time.time()  # Start timing the evaluation process\n",
    "    \n",
    "    print(\"\\n############ Evaluation ############\")\n",
    "    with torch.no_grad():\n",
    "        for batch_idx, batch in enumerate(tqdm(eval_loader)):\n",
    "            input_ids = batch['input_ids'].to(device)\n",
    "            attention_mask = batch['attention_mask'].to(device)\n",
    "            start_positions = batch['start_positions'].to(device)\n",
    "            end_positions = batch['end_positions'].to(device)\n",
    "\n",
    "            outputs = model(input_ids, attention_mask=attention_mask, start_positions=start_positions, end_positions=end_positions)\n",
    "            loss = outputs[0]\n",
    "            \n",
    "            total_loss += loss.item()\n",
    "\n",
    "            if (batch_idx + 1) % print_every == 0:\n",
    "                print(f\"Batch {batch_idx + 1} / {len(eval_loader)}, Loss: {round(loss.item(), 1)}\")\n",
    "        \n",
    "    avg_loss = total_loss / len(eval_loader)\n",
    "    eval_losses.append(avg_loss)\n",
    "\n",
    "    print(f\"Evaluation finished.\\n Validation Loss: {avg_loss}\")\n",
    "    total_eval_time = time.time() - total_eval_time \n",
    "    minutes = total_eval_time // 60\n",
    "    seconds = total_eval_time % 60\n",
    "    print(f\"Total Evaluation Time: {int(minutes)} minutes {seconds:.2f} seconds\")\n",
    "    \n",
    "    return eval_losses\n",
    "\n",
    "\n",
    "def train_and_evaluate(model, train_loader, eval_loader, optimizer, device, epochs=1, print_every=500):\n",
    "    \"\"\"\n",
    "    Train and evaluate the model.\n",
    "    \n",
    "    Parameters:\n",
    "    - model: The model to be trained and evaluated.\n",
    "    - train_loader: The DataLoader for training data.\n",
    "    - eval_loader: The DataLoader for evaluation data.\n",
    "    - optimizer: Optimizer used for training.\n",
    "    - device: The device (CPU/GPU) on which to train and evaluate the model.\n",
    "    - epochs: Number of epochs to train the model.\n",
    "    - print_every: Interval of batches to print the status.\n",
    "    \n",
    "    Returns:\n",
    "    - train_losses: List of training losses per epoch.\n",
    "    - eval_losses: List of evaluation losses per epoch.\n",
    "    \"\"\"\n",
    "    whole_train_eval_time = time.time()\n",
    "\n",
    "    train_losses = train_model(model, train_loader, optimizer, device, epochs, print_every)\n",
    "    eval_losses = evaluate_model(model, eval_loader, device, print_every)\n",
    "    \n",
    "    print(f\"Total training and evaluation time: {time.time() - whole_train_eval_time}\\n\")\n",
    "    \n",
    "    return train_losses, eval_losses\n"
   ]
  },
  {
   "cell_type": "code",
   "execution_count": 16,
   "metadata": {},
   "outputs": [
    {
     "name": "stdout",
     "output_type": "stream",
     "text": [
      "\n",
      "############ Train Epoch 1 ############\n"
     ]
    },
    {
     "name": "stderr",
     "output_type": "stream",
     "text": [
      "  5%|█████████▍                                                                                                                                                                                                  | 501/10853 [01:27<30:04,  5.74it/s]"
     ]
    },
    {
     "name": "stdout",
     "output_type": "stream",
     "text": [
      "Batch 500 / 10853, Loss: 2.3\n"
     ]
    },
    {
     "name": "stderr",
     "output_type": "stream",
     "text": [
      "  9%|██████████████████▋                                                                                                                                                                                        | 1001/10853 [02:54<28:42,  5.72it/s]"
     ]
    },
    {
     "name": "stdout",
     "output_type": "stream",
     "text": [
      "Batch 1000 / 10853, Loss: 1.0\n"
     ]
    },
    {
     "name": "stderr",
     "output_type": "stream",
     "text": [
      " 14%|████████████████████████████                                                                                                                                                                               | 1501/10853 [04:21<27:13,  5.73it/s]"
     ]
    },
    {
     "name": "stdout",
     "output_type": "stream",
     "text": [
      "Batch 1500 / 10853, Loss: 1.7\n"
     ]
    },
    {
     "name": "stderr",
     "output_type": "stream",
     "text": [
      " 18%|█████████████████████████████████████▍                                                                                                                                                                     | 2001/10853 [05:48<25:46,  5.72it/s]"
     ]
    },
    {
     "name": "stdout",
     "output_type": "stream",
     "text": [
      "Batch 2000 / 10853, Loss: 3.1\n"
     ]
    },
    {
     "name": "stderr",
     "output_type": "stream",
     "text": [
      " 23%|██████████████████████████████████████████████▊                                                                                                                                                            | 2501/10853 [07:16<24:19,  5.72it/s]"
     ]
    },
    {
     "name": "stdout",
     "output_type": "stream",
     "text": [
      "Batch 2500 / 10853, Loss: 1.2\n"
     ]
    },
    {
     "name": "stderr",
     "output_type": "stream",
     "text": [
      " 28%|████████████████████████████████████████████████████████▏                                                                                                                                                  | 3001/10853 [08:43<22:53,  5.71it/s]"
     ]
    },
    {
     "name": "stdout",
     "output_type": "stream",
     "text": [
      "Batch 3000 / 10853, Loss: 0.8\n"
     ]
    },
    {
     "name": "stderr",
     "output_type": "stream",
     "text": [
      " 32%|█████████████████████████████████████████████████████████████████▍                                                                                                                                         | 3501/10853 [10:11<21:23,  5.73it/s]"
     ]
    },
    {
     "name": "stdout",
     "output_type": "stream",
     "text": [
      "Batch 3500 / 10853, Loss: 1.6\n"
     ]
    },
    {
     "name": "stderr",
     "output_type": "stream",
     "text": [
      " 37%|██████████████████████████████████████████████████████████████████████████▊                                                                                                                                | 4001/10853 [11:38<19:55,  5.73it/s]"
     ]
    },
    {
     "name": "stdout",
     "output_type": "stream",
     "text": [
      "Batch 4000 / 10853, Loss: 2.1\n"
     ]
    },
    {
     "name": "stderr",
     "output_type": "stream",
     "text": [
      " 41%|████████████████████████████████████████████████████████████████████████████████████▏                                                                                                                      | 4501/10853 [13:05<18:29,  5.72it/s]"
     ]
    },
    {
     "name": "stdout",
     "output_type": "stream",
     "text": [
      "Batch 4500 / 10853, Loss: 1.3\n"
     ]
    },
    {
     "name": "stderr",
     "output_type": "stream",
     "text": [
      " 46%|█████████████████████████████████████████████████████████████████████████████████████████████▌                                                                                                             | 5001/10853 [14:33<17:02,  5.72it/s]"
     ]
    },
    {
     "name": "stdout",
     "output_type": "stream",
     "text": [
      "Batch 5000 / 10853, Loss: 0.3\n"
     ]
    },
    {
     "name": "stderr",
     "output_type": "stream",
     "text": [
      " 51%|██████████████████████████████████████████████████████████████████████████████████████████████████████▉                                                                                                    | 5501/10853 [16:00<15:35,  5.72it/s]"
     ]
    },
    {
     "name": "stdout",
     "output_type": "stream",
     "text": [
      "Batch 5500 / 10853, Loss: 1.3\n"
     ]
    },
    {
     "name": "stderr",
     "output_type": "stream",
     "text": [
      " 55%|████████████████████████████████████████████████████████████████████████████████████████████████████████████████▏                                                                                          | 6001/10853 [17:28<14:07,  5.72it/s]"
     ]
    },
    {
     "name": "stdout",
     "output_type": "stream",
     "text": [
      "Batch 6000 / 10853, Loss: 2.1\n"
     ]
    },
    {
     "name": "stderr",
     "output_type": "stream",
     "text": [
      " 60%|█████████████████████████████████████████████████████████████████████████████████████████████████████████████████████████▌                                                                                 | 6501/10853 [18:55<12:41,  5.72it/s]"
     ]
    },
    {
     "name": "stdout",
     "output_type": "stream",
     "text": [
      "Batch 6500 / 10853, Loss: 0.9\n"
     ]
    },
    {
     "name": "stderr",
     "output_type": "stream",
     "text": [
      " 65%|██████████████████████████████████████████████████████████████████████████████████████████████████████████████████████████████████▉                                                                        | 7001/10853 [20:22<11:13,  5.72it/s]"
     ]
    },
    {
     "name": "stdout",
     "output_type": "stream",
     "text": [
      "Batch 7000 / 10853, Loss: 1.8\n"
     ]
    },
    {
     "name": "stderr",
     "output_type": "stream",
     "text": [
      " 69%|████████████████████████████████████████████████████████████████████████████████████████████████████████████████████████████████████████████▎                                                              | 7501/10853 [21:50<09:45,  5.72it/s]"
     ]
    },
    {
     "name": "stdout",
     "output_type": "stream",
     "text": [
      "Batch 7500 / 10853, Loss: 1.2\n"
     ]
    },
    {
     "name": "stderr",
     "output_type": "stream",
     "text": [
      " 74%|█████████████████████████████████████████████████████████████████████████████████████████████████████████████████████████████████████████████████████▋                                                     | 8001/10853 [23:17<08:18,  5.72it/s]"
     ]
    },
    {
     "name": "stdout",
     "output_type": "stream",
     "text": [
      "Batch 8000 / 10853, Loss: 1.0\n"
     ]
    },
    {
     "name": "stderr",
     "output_type": "stream",
     "text": [
      " 78%|███████████████████████████████████████████████████████████████████████████████████████████████████████████████████████████████████████████████████████████████                                            | 8501/10853 [24:45<06:51,  5.72it/s]"
     ]
    },
    {
     "name": "stdout",
     "output_type": "stream",
     "text": [
      "Batch 8500 / 10853, Loss: 1.9\n"
     ]
    },
    {
     "name": "stderr",
     "output_type": "stream",
     "text": [
      " 83%|████████████████████████████████████████████████████████████████████████████████████████████████████████████████████████████████████████████████████████████████████████▎                                  | 9001/10853 [26:12<05:23,  5.72it/s]"
     ]
    },
    {
     "name": "stdout",
     "output_type": "stream",
     "text": [
      "Batch 9000 / 10853, Loss: 0.8\n"
     ]
    },
    {
     "name": "stderr",
     "output_type": "stream",
     "text": [
      " 88%|█████████████████████████████████████████████████████████████████████████████████████████████████████████████████████████████████████████████████████████████████████████████████▋                         | 9501/10853 [27:39<03:56,  5.72it/s]"
     ]
    },
    {
     "name": "stdout",
     "output_type": "stream",
     "text": [
      "Batch 9500 / 10853, Loss: 1.7\n"
     ]
    },
    {
     "name": "stderr",
     "output_type": "stream",
     "text": [
      " 92%|██████████████████████████████████████████████████████████████████████████████████████████████████████████████████████████████████████████████████████████████████████████████████████████▏               | 10001/10853 [29:07<02:28,  5.72it/s]"
     ]
    },
    {
     "name": "stdout",
     "output_type": "stream",
     "text": [
      "Batch 10000 / 10853, Loss: 1.1\n"
     ]
    },
    {
     "name": "stderr",
     "output_type": "stream",
     "text": [
      " 97%|███████████████████████████████████████████████████████████████████████████████████████████████████████████████████████████████████████████████████████████████████████████████████████████████████▍      | 10501/10853 [30:34<01:01,  5.73it/s]"
     ]
    },
    {
     "name": "stdout",
     "output_type": "stream",
     "text": [
      "Batch 10500 / 10853, Loss: 2.0\n"
     ]
    },
    {
     "name": "stderr",
     "output_type": "stream",
     "text": [
      "100%|██████████████████████████████████████████████████████████████████████████████████████████████████████████████████████████████████████████████████████████████████████████████████████████████████████████| 10853/10853 [31:35<00:00,  5.72it/s]\n"
     ]
    },
    {
     "name": "stdout",
     "output_type": "stream",
     "text": [
      "Epoch 1 finished. Training Loss: 1.3289806868046548, Time: 1896.0015404224396\n",
      "\n",
      "\n",
      "############ Train Epoch 2 ############\n"
     ]
    },
    {
     "name": "stderr",
     "output_type": "stream",
     "text": [
      "  5%|█████████▍                                                                                                                                                                                                  | 501/10853 [01:27<30:09,  5.72it/s]"
     ]
    },
    {
     "name": "stdout",
     "output_type": "stream",
     "text": [
      "Batch 500 / 10853, Loss: 1.2\n"
     ]
    },
    {
     "name": "stderr",
     "output_type": "stream",
     "text": [
      "  9%|██████████████████▋                                                                                                                                                                                        | 1001/10853 [02:54<28:42,  5.72it/s]"
     ]
    },
    {
     "name": "stdout",
     "output_type": "stream",
     "text": [
      "Batch 1000 / 10853, Loss: 0.5\n"
     ]
    },
    {
     "name": "stderr",
     "output_type": "stream",
     "text": [
      " 14%|████████████████████████████                                                                                                                                                                               | 1501/10853 [04:22<27:12,  5.73it/s]"
     ]
    },
    {
     "name": "stdout",
     "output_type": "stream",
     "text": [
      "Batch 1500 / 10853, Loss: 1.2\n"
     ]
    },
    {
     "name": "stderr",
     "output_type": "stream",
     "text": [
      " 18%|█████████████████████████████████████▍                                                                                                                                                                     | 2001/10853 [05:49<25:45,  5.73it/s]"
     ]
    },
    {
     "name": "stdout",
     "output_type": "stream",
     "text": [
      "Batch 2000 / 10853, Loss: 0.4\n"
     ]
    },
    {
     "name": "stderr",
     "output_type": "stream",
     "text": [
      " 23%|██████████████████████████████████████████████▊                                                                                                                                                            | 2501/10853 [07:17<24:19,  5.72it/s]"
     ]
    },
    {
     "name": "stdout",
     "output_type": "stream",
     "text": [
      "Batch 2500 / 10853, Loss: 0.7\n"
     ]
    },
    {
     "name": "stderr",
     "output_type": "stream",
     "text": [
      " 28%|████████████████████████████████████████████████████████▏                                                                                                                                                  | 3001/10853 [08:44<22:49,  5.73it/s]"
     ]
    },
    {
     "name": "stdout",
     "output_type": "stream",
     "text": [
      "Batch 3000 / 10853, Loss: 0.8\n"
     ]
    },
    {
     "name": "stderr",
     "output_type": "stream",
     "text": [
      " 32%|█████████████████████████████████████████████████████████████████▍                                                                                                                                         | 3501/10853 [10:11<21:21,  5.74it/s]"
     ]
    },
    {
     "name": "stdout",
     "output_type": "stream",
     "text": [
      "Batch 3500 / 10853, Loss: 1.0\n"
     ]
    },
    {
     "name": "stderr",
     "output_type": "stream",
     "text": [
      " 37%|██████████████████████████████████████████████████████████████████████████▊                                                                                                                                | 4001/10853 [11:38<19:55,  5.73it/s]"
     ]
    },
    {
     "name": "stdout",
     "output_type": "stream",
     "text": [
      "Batch 4000 / 10853, Loss: 1.2\n"
     ]
    },
    {
     "name": "stderr",
     "output_type": "stream",
     "text": [
      " 41%|████████████████████████████████████████████████████████████████████████████████████▏                                                                                                                      | 4501/10853 [13:06<18:29,  5.73it/s]"
     ]
    },
    {
     "name": "stdout",
     "output_type": "stream",
     "text": [
      "Batch 4500 / 10853, Loss: 0.4\n"
     ]
    },
    {
     "name": "stderr",
     "output_type": "stream",
     "text": [
      " 46%|█████████████████████████████████████████████████████████████████████████████████████████████▌                                                                                                             | 5001/10853 [14:33<17:02,  5.72it/s]"
     ]
    },
    {
     "name": "stdout",
     "output_type": "stream",
     "text": [
      "Batch 5000 / 10853, Loss: 0.9\n"
     ]
    },
    {
     "name": "stderr",
     "output_type": "stream",
     "text": [
      " 51%|██████████████████████████████████████████████████████████████████████████████████████████████████████▉                                                                                                    | 5501/10853 [16:00<15:34,  5.73it/s]"
     ]
    },
    {
     "name": "stdout",
     "output_type": "stream",
     "text": [
      "Batch 5500 / 10853, Loss: 0.6\n"
     ]
    },
    {
     "name": "stderr",
     "output_type": "stream",
     "text": [
      " 55%|████████████████████████████████████████████████████████████████████████████████████████████████████████████████▏                                                                                          | 6001/10853 [17:28<14:07,  5.73it/s]"
     ]
    },
    {
     "name": "stdout",
     "output_type": "stream",
     "text": [
      "Batch 6000 / 10853, Loss: 1.2\n"
     ]
    },
    {
     "name": "stderr",
     "output_type": "stream",
     "text": [
      " 60%|█████████████████████████████████████████████████████████████████████████████████████████████████████████████████████████▌                                                                                 | 6501/10853 [18:55<12:40,  5.72it/s]"
     ]
    },
    {
     "name": "stdout",
     "output_type": "stream",
     "text": [
      "Batch 6500 / 10853, Loss: 1.3\n"
     ]
    },
    {
     "name": "stderr",
     "output_type": "stream",
     "text": [
      " 65%|██████████████████████████████████████████████████████████████████████████████████████████████████████████████████████████████████▉                                                                        | 7001/10853 [20:22<11:12,  5.72it/s]"
     ]
    },
    {
     "name": "stdout",
     "output_type": "stream",
     "text": [
      "Batch 7000 / 10853, Loss: 0.9\n"
     ]
    },
    {
     "name": "stderr",
     "output_type": "stream",
     "text": [
      " 69%|████████████████████████████████████████████████████████████████████████████████████████████████████████████████████████████████████████████▎                                                              | 7501/10853 [21:50<09:45,  5.73it/s]"
     ]
    },
    {
     "name": "stdout",
     "output_type": "stream",
     "text": [
      "Batch 7500 / 10853, Loss: 1.0\n"
     ]
    },
    {
     "name": "stderr",
     "output_type": "stream",
     "text": [
      " 74%|█████████████████████████████████████████████████████████████████████████████████████████████████████████████████████████████████████████████████████▋                                                     | 8001/10853 [23:17<08:18,  5.72it/s]"
     ]
    },
    {
     "name": "stdout",
     "output_type": "stream",
     "text": [
      "Batch 8000 / 10853, Loss: 0.5\n"
     ]
    },
    {
     "name": "stderr",
     "output_type": "stream",
     "text": [
      " 78%|███████████████████████████████████████████████████████████████████████████████████████████████████████████████████████████████████████████████████████████████                                            | 8501/10853 [24:44<06:50,  5.73it/s]"
     ]
    },
    {
     "name": "stdout",
     "output_type": "stream",
     "text": [
      "Batch 8500 / 10853, Loss: 1.0\n"
     ]
    },
    {
     "name": "stderr",
     "output_type": "stream",
     "text": [
      " 83%|████████████████████████████████████████████████████████████████████████████████████████████████████████████████████████████████████████████████████████████████████████▎                                  | 9001/10853 [26:12<05:23,  5.73it/s]"
     ]
    },
    {
     "name": "stdout",
     "output_type": "stream",
     "text": [
      "Batch 9000 / 10853, Loss: 0.3\n"
     ]
    },
    {
     "name": "stderr",
     "output_type": "stream",
     "text": [
      " 88%|█████████████████████████████████████████████████████████████████████████████████████████████████████████████████████████████████████████████████████████████████████████████████▋                         | 9501/10853 [27:39<03:56,  5.72it/s]"
     ]
    },
    {
     "name": "stdout",
     "output_type": "stream",
     "text": [
      "Batch 9500 / 10853, Loss: 1.2\n"
     ]
    },
    {
     "name": "stderr",
     "output_type": "stream",
     "text": [
      " 92%|██████████████████████████████████████████████████████████████████████████████████████████████████████████████████████████████████████████████████████████████████████████████████████████▏               | 10001/10853 [29:06<02:28,  5.73it/s]"
     ]
    },
    {
     "name": "stdout",
     "output_type": "stream",
     "text": [
      "Batch 10000 / 10853, Loss: 1.3\n"
     ]
    },
    {
     "name": "stderr",
     "output_type": "stream",
     "text": [
      " 97%|███████████████████████████████████████████████████████████████████████████████████████████████████████████████████████████████████████████████████████████████████████████████████████████████████▍      | 10501/10853 [30:34<01:01,  5.72it/s]"
     ]
    },
    {
     "name": "stdout",
     "output_type": "stream",
     "text": [
      "Batch 10500 / 10853, Loss: 0.7\n"
     ]
    },
    {
     "name": "stderr",
     "output_type": "stream",
     "text": [
      "100%|██████████████████████████████████████████████████████████████████████████████████████████████████████████████████████████████████████████████████████████████████████████████████████████████████████████| 10853/10853 [31:35<00:00,  5.72it/s]"
     ]
    },
    {
     "name": "stdout",
     "output_type": "stream",
     "text": [
      "Epoch 2 finished. Training Loss: 0.8746673937663497, Time: 1895.772430896759\n",
      "\n",
      "Total Training Time: 63 minutes 11.77 seconds\n"
     ]
    },
    {
     "name": "stderr",
     "output_type": "stream",
     "text": [
      "\n"
     ]
    }
   ],
   "source": [
    "train_losses = train_model(model, train_loader, optim, device, epochs=2)"
   ]
  },
  {
   "cell_type": "code",
   "execution_count": 22,
   "metadata": {},
   "outputs": [
    {
     "name": "stdout",
     "output_type": "stream",
     "text": [
      "\n",
      "############ Evaluation ############\n"
     ]
    },
    {
     "name": "stderr",
     "output_type": "stream",
     "text": [
      " 20%|████████████████████████████████████████▌                                                                                                                                                                    | 502/2538 [00:27<01:51, 18.28it/s]"
     ]
    },
    {
     "name": "stdout",
     "output_type": "stream",
     "text": [
      "Batch 500 / 2538, Loss: 1.1\n"
     ]
    },
    {
     "name": "stderr",
     "output_type": "stream",
     "text": [
      " 39%|████████████████████████████████████████████████████████████████████████████████▌                                                                                                                           | 1002/2538 [00:54<01:24, 18.24it/s]"
     ]
    },
    {
     "name": "stdout",
     "output_type": "stream",
     "text": [
      "Batch 1000 / 2538, Loss: 0.4\n"
     ]
    },
    {
     "name": "stderr",
     "output_type": "stream",
     "text": [
      " 59%|████████████████████████████████████████████████████████████████████████████████████████████████████████████████████████▋                                                                                   | 1502/2538 [01:22<00:56, 18.22it/s]"
     ]
    },
    {
     "name": "stdout",
     "output_type": "stream",
     "text": [
      "Batch 1500 / 2538, Loss: 1.2\n"
     ]
    },
    {
     "name": "stderr",
     "output_type": "stream",
     "text": [
      " 79%|████████████████████████████████████████████████████████████████████████████████████████████████████████████████████████████████████████████████████████████████▉                                           | 2002/2538 [01:49<00:29, 18.22it/s]"
     ]
    },
    {
     "name": "stdout",
     "output_type": "stream",
     "text": [
      "Batch 2000 / 2538, Loss: 1.9\n"
     ]
    },
    {
     "name": "stderr",
     "output_type": "stream",
     "text": [
      " 99%|█████████████████████████████████████████████████████████████████████████████████████████████████████████████████████████████████████████████████████████████████████████████████████████████████████████   | 2502/2538 [02:17<00:01, 18.22it/s]"
     ]
    },
    {
     "name": "stdout",
     "output_type": "stream",
     "text": [
      "Batch 2500 / 2538, Loss: 1.9\n"
     ]
    },
    {
     "name": "stderr",
     "output_type": "stream",
     "text": [
      "100%|████████████████████████████████████████████████████████████████████████████████████████████████████████████████████████████████████████████████████████████████████████████████████████████████████████████| 2538/2538 [02:18<00:00, 18.26it/s]"
     ]
    },
    {
     "name": "stdout",
     "output_type": "stream",
     "text": [
      "Evaluation finished.\n",
      " Validation Loss: 1.2012053896005905\n",
      "Total Evaluation Time: 2 minutes 18.97 seconds\n"
     ]
    },
    {
     "name": "stderr",
     "output_type": "stream",
     "text": [
      "\n"
     ]
    }
   ],
   "source": [
    "test_losses = evaluate_model(model, test_loader, device)"
   ]
  },
  {
   "cell_type": "code",
   "execution_count": 25,
   "metadata": {},
   "outputs": [],
   "source": [
    "import matplotlib.pyplot as plt\n",
    "\n",
    "def plot_losses(train_losses, test_losses=None):\n",
    "    plt.figure(figsize=(10, 5))\n",
    "    plt.plot(train_losses, label=\"Training Loss\", color='b')\n",
    "    \n",
    "    if test_losses:\n",
    "        plt.plot(test_losses, label=\"Validation Loss\", color='r')\n",
    "    \n",
    "    plt.title(\"Loss Curve\")\n",
    "    plt.xlabel(\"Epoch\")\n",
    "    plt.ylabel(\"Loss\")\n",
    "    plt.legend()\n",
    "    plt.grid(True)\n",
    "    plt.show()"
   ]
  },
  {
   "cell_type": "code",
   "execution_count": 26,
   "metadata": {},
   "outputs": [
    {
     "data": {
      "image/png": "[encoded data removed]",
      "text/plain": [
       "<Figure size 1000x500 with 1 Axes>"
      ]
     },
     "metadata": {},
     "output_type": "display_data"
    }
   ],
   "source": [
    "plot_losses(train_losses, test_losses)"
   ]
  },
  {
   "cell_type": "markdown",
   "metadata": {
    "id": "41ZatksYHP_p"
   },
   "source": [
    "## ***Step 12:*** Plot train and validation losses"
   ]
  },
  {
   "cell_type": "code",
   "execution_count": 1,
   "metadata": {
    "colab": {
     "base_uri": "https://localhost:8080/",
     "height": 1000
    },
    "id": "Daxw8aQMHPTV",
    "outputId": "78d07e93-57bf-444b-92bb-ca4a3f7b3bcc"
   },
   "outputs": [
    {
     "ename": "NameError",
     "evalue": "name 'train_losses' is not defined",
     "output_type": "error",
     "traceback": [
      "\u001b[0;31m---------------------------------------------------------------------------\u001b[0m",
      "\u001b[0;31mNameError\u001b[0m                                 Traceback (most recent call last)",
      "\u001b[0;32m<ipython-input-1-3acd26ec4dfe>\u001b[0m in \u001b[0;36m<module>\u001b[0;34m\u001b[0m\n\u001b[1;32m      6\u001b[0m \u001b[0max\u001b[0m\u001b[0;34m.\u001b[0m\u001b[0mset_ylabel\u001b[0m\u001b[0;34m(\u001b[0m\u001b[0;34m'Loss'\u001b[0m\u001b[0;34m,\u001b[0m \u001b[0mfontsize\u001b[0m \u001b[0;34m=\u001b[0m \u001b[0;36m20\u001b[0m\u001b[0;34m)\u001b[0m\u001b[0;34m\u001b[0m\u001b[0;34m\u001b[0m\u001b[0m\n\u001b[1;32m      7\u001b[0m \u001b[0max\u001b[0m\u001b[0;34m.\u001b[0m\u001b[0mset_xlabel\u001b[0m\u001b[0;34m(\u001b[0m\u001b[0;34m'Epochs'\u001b[0m\u001b[0;34m,\u001b[0m \u001b[0mfontsize\u001b[0m \u001b[0;34m=\u001b[0m \u001b[0;36m25\u001b[0m\u001b[0;34m)\u001b[0m\u001b[0;34m\u001b[0m\u001b[0;34m\u001b[0m\u001b[0m\n\u001b[0;32m----> 8\u001b[0;31m \u001b[0m_\u001b[0m\u001b[0;34m=\u001b[0m\u001b[0max\u001b[0m\u001b[0;34m.\u001b[0m\u001b[0mplot\u001b[0m\u001b[0;34m(\u001b[0m\u001b[0mtrain_losses\u001b[0m\u001b[0;34m)\u001b[0m\u001b[0;34m\u001b[0m\u001b[0;34m\u001b[0m\u001b[0m\n\u001b[0m\u001b[1;32m      9\u001b[0m \u001b[0m_\u001b[0m\u001b[0;34m=\u001b[0m\u001b[0max\u001b[0m\u001b[0;34m.\u001b[0m\u001b[0mplot\u001b[0m\u001b[0;34m(\u001b[0m\u001b[0mtest_losses\u001b[0m\u001b[0;34m)\u001b[0m\u001b[0;34m\u001b[0m\u001b[0;34m\u001b[0m\u001b[0m\n\u001b[1;32m     10\u001b[0m \u001b[0m_\u001b[0m\u001b[0;34m=\u001b[0m\u001b[0max\u001b[0m\u001b[0;34m.\u001b[0m\u001b[0mlegend\u001b[0m\u001b[0;34m(\u001b[0m\u001b[0;34m(\u001b[0m\u001b[0;34m'Train'\u001b[0m\u001b[0;34m,\u001b[0m\u001b[0;34m'Test'\u001b[0m\u001b[0;34m)\u001b[0m\u001b[0;34m,\u001b[0m\u001b[0mloc\u001b[0m\u001b[0;34m=\u001b[0m\u001b[0;34m'upper right'\u001b[0m\u001b[0;34m)\u001b[0m\u001b[0;34m\u001b[0m\u001b[0;34m\u001b[0m\u001b[0m\n",
      "\u001b[0;31mNameError\u001b[0m: name 'train_losses' is not defined"
     ]
    },
    {
     "data": {
      "image/png": "[encoded data removed]",
      "text/plain": [
       "<Figure size 1080x720 with 1 Axes>"
      ]
     },
     "metadata": {
      "needs_background": "light"
     },
     "output_type": "display_data"
    }
   ],
   "source": [
    "import matplotlib.pyplot as plt\n",
    "\n",
    "fig,ax = plt.subplots(1,1,figsize=(15,10))\n",
    "\n",
    "ax.set_title(\"Train and Validation Losses\",size=20)\n",
    "ax.set_ylabel('Loss', fontsize = 20)\n",
    "ax.set_xlabel('Epochs', fontsize = 25)\n",
    "_=ax.plot(train_losses)\n",
    "_=ax.plot(test_losses)\n",
    "_=ax.legend(('Train','Test'),loc='upper right')"
   ]
  },
  {
   "cell_type": "markdown",
   "metadata": {
    "id": "9hlIsecifzBf"
   },
   "source": [
    "## ***Step 13:*** Summaries"
   ]
  },
  {
   "cell_type": "markdown",
   "metadata": {
    "id": "f0j8EAqHh2VK"
   },
   "source": [
    "- I have to mention that I waited several hours to run all the notebook (sometimes ~9 hours) and it was a very tiring and frustrating process, because sometimes after i.e 8 hours my google accound connection was disconnected or my gpu is run out. So, what I was left with from the whole process, is that it is very time consuming to train the model and it needs a strong computing power.\n",
    "- Nevertheless, I manage to run it for some hyperparameters that I want in order to take the best performance I could. I consulted the lectures of BERT for the values I want to try. More specifically:\n",
    "  - ***Batch size:*** 8, 16\n",
    "  - ***Learning rate (Adam):***  5e−5, 3e−5, 2e−5\n",
    "  - ***Number of epochs:***  2, 3, 4\n",
    "\n",
    "  I will analyze it more later, but in the end I kept the values of ***8 batch size***, ***3 epochs*** and ***5e-5 learning rate*** for optimal hyperparameters.\n",
    "\n",
    "- Concerning the ***number of epochs*** I began with 2 and I realize that overfitting happened from the very first epoch. So I understand that there isn't a reason to try much more epochs. When I tried sometimes to train my model for 4 epochs, the connection and cuda never let me, so I train my model with only 3 epochs. Moreover, it doesn't matter so much, as overfitting happened in the first epoch and the gap between the training and validation loss was getting bigger and bigger as the epochs increased.\n",
    "- As for ***learning rate***, I tried all of these three values, and nothing changed for overfitting, so I kept the value of 5e-5, as the its perform was a little better (overfitting started from later epoch). Ι show a picture bellow of the learning curves of 3e-5 learning rate to see by yourself that there isn't difference.\n",
    "- As for ***batch size***, it was impossible to train my model with bigger batch size and I believe that this is the reason that my model overfits from the very first epoch. The smaller batch size is the better and faster the model learn in data, so the training loss decreased very quick. On the other hand, any number I tried bigger than 8 in batch size (16, 32, 64), Ram Memory ran out instantaneously. Intuitively and empirically, from previous Projects, if we had bigger batch size the model would learn in data more slowly, but the learning curves would be more smoother and we could handle with overfitting. But this is something that couldn't happen, bacause of memory limit usage of Google Colab.\n",
    "- I tried to faced up with overfitting with other ways, but in vain.\n",
    " - I tried to add a bigger dropout probability (with a dropout layer), because I notice that in Bert model the dropout probability was always kept at 0.1, but nothing changed.\n",
    " - I tried to reduce the amount of data in half (40.000), but overfitting still happened and actually led to worse performance in general.\n",
    " - In the end, I understand that our Bert model is already pretty complex and the fact that we give it more data it does it more complex.\n",
    "- I have to mention that I select the fine tuning technique that trains the entire architecture with the error to be the back-propagated through the entire architecture and the pre-trained weights of the model are updated based on the new dataset. I was more familiar with this technique from previous Projects and not with freezing all or some of the layers of architecture. Futhermore, QA tasks are very complicated and I believe that it is important to have the information of all layers."
   ]
  },
  {
   "cell_type": "markdown",
   "metadata": {
    "id": "dutEa4FS8QnV"
   },
   "source": [
    "![Screenshot from 2021-02-06 18-40-28.png](data:image/png;base64,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)"
   ]
  }
 ],
 "metadata": {
  "accelerator": "GPU",
  "colab": {
   "provenance": []
  },
  "kernelspec": {
   "display_name": "mypython",
   "language": "python",
   "name": "mypython"
  },
  "language_info": {
   "codemirror_mode": {
    "name": "ipython",
    "version": 3
   },
   "file_extension": ".py",
   "mimetype": "text/x-python",
   "name": "python",
   "nbconvert_exporter": "python",
   "pygments_lexer": "ipython3",
   "version": "3.10.8"
  },
  "widgets": {
   "application/vnd.jupyter.widget-state+json": {
    "001a5572ed9b47dd80f577448574d051": {
     "model_module": "@jupyter-widgets/base",
     "model_module_version": "1.2.0",
     "model_name": "LayoutModel",
     "state": {
      "_model_module": "@jupyter-widgets/base",
      "_model_module_version": "1.2.0",
      "_model_name": "LayoutModel",
      "_view_count": null,
      "_view_module": "@jupyter-widgets/base",
      "_view_module_version": "1.2.0",
      "_view_name": "LayoutView",
      "align_content": null,
      "align_items": null,
      "align_self": null,
      "border": null,
      "bottom": null,
      "display": null,
      "flex": null,
      "flex_flow": null,
      "grid_area": null,
      "grid_auto_columns": null,
      "grid_auto_flow": null,
      "grid_auto_rows": null,
      "grid_column": null,
      "grid_gap": null,
      "grid_row": null,
      "grid_template_areas": null,
      "grid_template_columns": null,
      "grid_template_rows": null,
      "height": null,
      "justify_content": null,
      "justify_items": null,
      "left": null,
      "margin": null,
      "max_height": null,
      "max_width": null,
      "min_height": null,
      "min_width": null,
      "object_fit": null,
      "object_position": null,
      "order": null,
      "overflow": null,
      "overflow_x": null,
      "overflow_y": null,
      "padding": null,
      "right": null,
      "top": null,
      "visibility": null,
      "width": null
     }
    },
    "08e94d5b52664e0da48cc5f8eebb0389": {
     "model_module": "@jupyter-widgets/controls",
     "model_module_version": "1.5.0",
     "model_name": "FloatProgressModel",
     "state": {
      "_dom_classes": [],
      "_model_module": "@jupyter-widgets/controls",
      "_model_module_version": "1.5.0",
      "_model_name": "FloatProgressModel",
      "_view_count": null,
      "_view_module": "@jupyter-widgets/controls",
      "_view_module_version": "1.5.0",
      "_view_name": "ProgressView",
      "bar_style": "success",
      "description": "",
      "description_tooltip": null,
      "layout": "IPY_MODEL_4b6b3d110058477aae5c7da55f908538",
      "max": 48,
      "min": 0,
      "orientation": "horizontal",
      "style": "IPY_MODEL_8d29c6843c1f4e9ebdb2b3ed90bf4bdd",
      "value": 48
     }
    },
    "0e0ce15ecc0b4094a63e68b9d88dc17b": {
     "model_module": "@jupyter-widgets/controls",
     "model_module_version": "1.5.0",
     "model_name": "DescriptionStyleModel",
     "state": {
      "_model_module": "@jupyter-widgets/controls",
      "_model_module_version": "1.5.0",
      "_model_name": "DescriptionStyleModel",
      "_view_count": null,
      "_view_module": "@jupyter-widgets/base",
      "_view_module_version": "1.2.0",
      "_view_name": "StyleView",
      "description_width": ""
     }
    },
    "16d6f0af23d149d8ae84e5391c9304ab": {
     "model_module": "@jupyter-widgets/controls",
     "model_module_version": "1.5.0",
     "model_name": "ProgressStyleModel",
     "state": {
      "_model_module": "@jupyter-widgets/controls",
      "_model_module_version": "1.5.0",
      "_model_name": "ProgressStyleModel",
      "_view_count": null,
      "_view_module": "@jupyter-widgets/base",
      "_view_module_version": "1.2.0",
      "_view_name": "StyleView",
      "bar_color": null,
      "description_width": ""
     }
    },
    "1b3f148b792f4e1192a041427f8d7ce0": {
     "model_module": "@jupyter-widgets/base",
     "model_module_version": "1.2.0",
     "model_name": "LayoutModel",
     "state": {
      "_model_module": "@jupyter-widgets/base",
      "_model_module_version": "1.2.0",
      "_model_name": "LayoutModel",
      "_view_count": null,
      "_view_module": "@jupyter-widgets/base",
      "_view_module_version": "1.2.0",
      "_view_name": "LayoutView",
      "align_content": null,
      "align_items": null,
      "align_self": null,
      "border": null,
      "bottom": null,
      "display": null,
      "flex": null,
      "flex_flow": null,
      "grid_area": null,
      "grid_auto_columns": null,
      "grid_auto_flow": null,
      "grid_auto_rows": null,
      "grid_column": null,
      "grid_gap": null,
      "grid_row": null,
      "grid_template_areas": null,
      "grid_template_columns": null,
      "grid_template_rows": null,
      "height": null,
      "justify_content": null,
      "justify_items": null,
      "left": null,
      "margin": null,
      "max_height": null,
      "max_width": null,
      "min_height": null,
      "min_width": null,
      "object_fit": null,
      "object_position": null,
      "order": null,
      "overflow": null,
      "overflow_x": null,
      "overflow_y": null,
      "padding": null,
      "right": null,
      "top": null,
      "visibility": null,
      "width": null
     }
    },
    "222392bcea65465999bedfa4ad41edbe": {
     "model_module": "@jupyter-widgets/controls",
     "model_module_version": "1.5.0",
     "model_name": "HTMLModel",
     "state": {
      "_dom_classes": [],
      "_model_module": "@jupyter-widgets/controls",
      "_model_module_version": "1.5.0",
      "_model_name": "HTMLModel",
      "_view_count": null,
      "_view_module": "@jupyter-widgets/controls",
      "_view_module_version": "1.5.0",
      "_view_name": "HTMLView",
      "description": "",
      "description_tooltip": null,
      "layout": "IPY_MODEL_86b84953ac2341f496812b769c2a5317",
      "placeholder": "​",
      "style": "IPY_MODEL_0e0ce15ecc0b4094a63e68b9d88dc17b",
      "value": "vocab.txt: 100%"
     }
    },
    "2f217499f66d4a9db06ae97bede41a9e": {
     "model_module": "@jupyter-widgets/controls",
     "model_module_version": "1.5.0",
     "model_name": "HTMLModel",
     "state": {
      "_dom_classes": [],
      "_model_module": "@jupyter-widgets/controls",
      "_model_module_version": "1.5.0",
      "_model_name": "HTMLModel",
      "_view_count": null,
      "_view_module": "@jupyter-widgets/controls",
      "_view_module_version": "1.5.0",
      "_view_name": "HTMLView",
      "description": "",
      "description_tooltip": null,
      "layout": "IPY_MODEL_eeb504a49d884e91a2e400000b324475",
      "placeholder": "​",
      "style": "IPY_MODEL_ed527609be714165895382af26616fbf",
      "value": " 232k/232k [00:00&lt;00:00, 7.57MB/s]"
     }
    },
    "2fcd08b25a694ebaa34caa0bde5fe00c": {
     "model_module": "@jupyter-widgets/base",
     "model_module_version": "1.2.0",
     "model_name": "LayoutModel",
     "state": {
      "_model_module": "@jupyter-widgets/base",
      "_model_module_version": "1.2.0",
      "_model_name": "LayoutModel",
      "_view_count": null,
      "_view_module": "@jupyter-widgets/base",
      "_view_module_version": "1.2.0",
      "_view_name": "LayoutView",
      "align_content": null,
      "align_items": null,
      "align_self": null,
      "border": null,
      "bottom": null,
      "display": null,
      "flex": null,
      "flex_flow": null,
      "grid_area": null,
      "grid_auto_columns": null,
      "grid_auto_flow": null,
      "grid_auto_rows": null,
      "grid_column": null,
      "grid_gap": null,
      "grid_row": null,
      "grid_template_areas": null,
      "grid_template_columns": null,
      "grid_template_rows": null,
      "height": null,
      "justify_content": null,
      "justify_items": null,
      "left": null,
      "margin": null,
      "max_height": null,
      "max_width": null,
      "min_height": null,
      "min_width": null,
      "object_fit": null,
      "object_position": null,
      "order": null,
      "overflow": null,
      "overflow_x": null,
      "overflow_y": null,
      "padding": null,
      "right": null,
      "top": null,
      "visibility": null,
      "width": null
     }
    },
    "31885fb5dc314252bda6594e50cba281": {
     "model_module": "@jupyter-widgets/controls",
     "model_module_version": "1.5.0",
     "model_name": "ProgressStyleModel",
     "state": {
      "_model_module": "@jupyter-widgets/controls",
      "_model_module_version": "1.5.0",
      "_model_name": "ProgressStyleModel",
      "_view_count": null,
      "_view_module": "@jupyter-widgets/base",
      "_view_module_version": "1.2.0",
      "_view_name": "StyleView",
      "bar_color": null,
      "description_width": ""
     }
    },
    "3786a5d664d24388a4ed7fb3be5993e9": {
     "model_module": "@jupyter-widgets/base",
     "model_module_version": "1.2.0",
     "model_name": "LayoutModel",
     "state": {
      "_model_module": "@jupyter-widgets/base",
      "_model_module_version": "1.2.0",
      "_model_name": "LayoutModel",
      "_view_count": null,
      "_view_module": "@jupyter-widgets/base",
      "_view_module_version": "1.2.0",
      "_view_name": "LayoutView",
      "align_content": null,
      "align_items": null,
      "align_self": null,
      "border": null,
      "bottom": null,
      "display": null,
      "flex": null,
      "flex_flow": null,
      "grid_area": null,
      "grid_auto_columns": null,
      "grid_auto_flow": null,
      "grid_auto_rows": null,
      "grid_column": null,
      "grid_gap": null,
      "grid_row": null,
      "grid_template_areas": null,
      "grid_template_columns": null,
      "grid_template_rows": null,
      "height": null,
      "justify_content": null,
      "justify_items": null,
      "left": null,
      "margin": null,
      "max_height": null,
      "max_width": null,
      "min_height": null,
      "min_width": null,
      "object_fit": null,
      "object_position": null,
      "order": null,
      "overflow": null,
      "overflow_x": null,
      "overflow_y": null,
      "padding": null,
      "right": null,
      "top": null,
      "visibility": null,
      "width": null
     }
    },
    "47dc552c3e2c427aac519d80feb08675": {
     "model_module": "@jupyter-widgets/controls",
     "model_module_version": "1.5.0",
     "model_name": "FloatProgressModel",
     "state": {
      "_dom_classes": [],
      "_model_module": "@jupyter-widgets/controls",
      "_model_module_version": "1.5.0",
      "_model_name": "FloatProgressModel",
      "_view_count": null,
      "_view_module": "@jupyter-widgets/controls",
      "_view_module_version": "1.5.0",
      "_view_name": "ProgressView",
      "bar_style": "success",
      "description": "",
      "description_tooltip": null,
      "layout": "IPY_MODEL_2fcd08b25a694ebaa34caa0bde5fe00c",
      "max": 466062,
      "min": 0,
      "orientation": "horizontal",
      "style": "IPY_MODEL_4a932c66bb584241b4075d0602042b82",
      "value": 466062
     }
    },
    "4a932c66bb584241b4075d0602042b82": {
     "model_module": "@jupyter-widgets/controls",
     "model_module_version": "1.5.0",
     "model_name": "ProgressStyleModel",
     "state": {
      "_model_module": "@jupyter-widgets/controls",
      "_model_module_version": "1.5.0",
      "_model_name": "ProgressStyleModel",
      "_view_count": null,
      "_view_module": "@jupyter-widgets/base",
      "_view_module_version": "1.2.0",
      "_view_name": "StyleView",
      "bar_color": null,
      "description_width": ""
     }
    },
    "4b6b3d110058477aae5c7da55f908538": {
     "model_module": "@jupyter-widgets/base",
     "model_module_version": "1.2.0",
     "model_name": "LayoutModel",
     "state": {
      "_model_module": "@jupyter-widgets/base",
      "_model_module_version": "1.2.0",
      "_model_name": "LayoutModel",
      "_view_count": null,
      "_view_module": "@jupyter-widgets/base",
      "_view_module_version": "1.2.0",
      "_view_name": "LayoutView",
      "align_content": null,
      "align_items": null,
      "align_self": null,
      "border": null,
      "bottom": null,
      "display": null,
      "flex": null,
      "flex_flow": null,
      "grid_area": null,
      "grid_auto_columns": null,
      "grid_auto_flow": null,
      "grid_auto_rows": null,
      "grid_column": null,
      "grid_gap": null,
      "grid_row": null,
      "grid_template_areas": null,
      "grid_template_columns": null,
      "grid_template_rows": null,
      "height": null,
      "justify_content": null,
      "justify_items": null,
      "left": null,
      "margin": null,
      "max_height": null,
      "max_width": null,
      "min_height": null,
      "min_width": null,
      "object_fit": null,
      "object_position": null,
      "order": null,
      "overflow": null,
      "overflow_x": null,
      "overflow_y": null,
      "padding": null,
      "right": null,
      "top": null,
      "visibility": null,
      "width": null
     }
    },
    "512721b34f524ccda3bd6a90e24b6a30": {
     "model_module": "@jupyter-widgets/controls",
     "model_module_version": "1.5.0",
     "model_name": "DescriptionStyleModel",
     "state": {
      "_model_module": "@jupyter-widgets/controls",
      "_model_module_version": "1.5.0",
      "_model_name": "DescriptionStyleModel",
      "_view_count": null,
      "_view_module": "@jupyter-widgets/base",
      "_view_module_version": "1.2.0",
      "_view_name": "StyleView",
      "description_width": ""
     }
    },
    "513e6346bb4041859a8c42c946f2b598": {
     "model_module": "@jupyter-widgets/controls",
     "model_module_version": "1.5.0",
     "model_name": "HBoxModel",
     "state": {
      "_dom_classes": [],
      "_model_module": "@jupyter-widgets/controls",
      "_model_module_version": "1.5.0",
      "_model_name": "HBoxModel",
      "_view_count": null,
      "_view_module": "@jupyter-widgets/controls",
      "_view_module_version": "1.5.0",
      "_view_name": "HBoxView",
      "box_style": "",
      "children": [
       "IPY_MODEL_222392bcea65465999bedfa4ad41edbe",
       "IPY_MODEL_a8a47b1bf4d34e3db2b683f812687cc6",
       "IPY_MODEL_2f217499f66d4a9db06ae97bede41a9e"
      ],
      "layout": "IPY_MODEL_f1d2e55a528c44eb804ab67b75462799"
     }
    },
    "5a1d629084f543f29416c5d788528c19": {
     "model_module": "@jupyter-widgets/controls",
     "model_module_version": "1.5.0",
     "model_name": "HTMLModel",
     "state": {
      "_dom_classes": [],
      "_model_module": "@jupyter-widgets/controls",
      "_model_module_version": "1.5.0",
      "_model_name": "HTMLModel",
      "_view_count": null,
      "_view_module": "@jupyter-widgets/controls",
      "_view_module_version": "1.5.0",
      "_view_name": "HTMLView",
      "description": "",
      "description_tooltip": null,
      "layout": "IPY_MODEL_3786a5d664d24388a4ed7fb3be5993e9",
      "placeholder": "​",
      "style": "IPY_MODEL_c11fabd29c854b94a7736a769449aba0",
      "value": "tokenizer_config.json: 100%"
     }
    },
    "682f25f297564a4085b5d2a5c94a5925": {
     "model_module": "@jupyter-widgets/base",
     "model_module_version": "1.2.0",
     "model_name": "LayoutModel",
     "state": {
      "_model_module": "@jupyter-widgets/base",
      "_model_module_version": "1.2.0",
      "_model_name": "LayoutModel",
      "_view_count": null,
      "_view_module": "@jupyter-widgets/base",
      "_view_module_version": "1.2.0",
      "_view_name": "LayoutView",
      "align_content": null,
      "align_items": null,
      "align_self": null,
      "border": null,
      "bottom": null,
      "display": null,
      "flex": null,
      "flex_flow": null,
      "grid_area": null,
      "grid_auto_columns": null,
      "grid_auto_flow": null,
      "grid_auto_rows": null,
      "grid_column": null,
      "grid_gap": null,
      "grid_row": null,
      "grid_template_areas": null,
      "grid_template_columns": null,
      "grid_template_rows": null,
      "height": null,
      "justify_content": null,
      "justify_items": null,
      "left": null,
      "margin": null,
      "max_height": null,
      "max_width": null,
      "min_height": null,
      "min_width": null,
      "object_fit": null,
      "object_position": null,
      "order": null,
      "overflow": null,
      "overflow_x": null,
      "overflow_y": null,
      "padding": null,
      "right": null,
      "top": null,
      "visibility": null,
      "width": null
     }
    },
    "74eec01c1fea4eefbd1c2678a71a6ac1": {
     "model_module": "@jupyter-widgets/controls",
     "model_module_version": "1.5.0",
     "model_name": "DescriptionStyleModel",
     "state": {
      "_model_module": "@jupyter-widgets/controls",
      "_model_module_version": "1.5.0",
      "_model_name": "DescriptionStyleModel",
      "_view_count": null,
      "_view_module": "@jupyter-widgets/base",
      "_view_module_version": "1.2.0",
      "_view_name": "StyleView",
      "description_width": ""
     }
    },
    "81574c1649f948df98b111c397896cd8": {
     "model_module": "@jupyter-widgets/controls",
     "model_module_version": "1.5.0",
     "model_name": "HTMLModel",
     "state": {
      "_dom_classes": [],
      "_model_module": "@jupyter-widgets/controls",
      "_model_module_version": "1.5.0",
      "_model_name": "HTMLModel",
      "_view_count": null,
      "_view_module": "@jupyter-widgets/controls",
      "_view_module_version": "1.5.0",
      "_view_name": "HTMLView",
      "description": "",
      "description_tooltip": null,
      "layout": "IPY_MODEL_001a5572ed9b47dd80f577448574d051",
      "placeholder": "​",
      "style": "IPY_MODEL_9d3776ee4a1142eeaa7cde4c975358e5",
      "value": " 466k/466k [00:00&lt;00:00, 17.4MB/s]"
     }
    },
    "86b84953ac2341f496812b769c2a5317": {
     "model_module": "@jupyter-widgets/base",
     "model_module_version": "1.2.0",
     "model_name": "LayoutModel",
     "state": {
      "_model_module": "@jupyter-widgets/base",
      "_model_module_version": "1.2.0",
      "_model_name": "LayoutModel",
      "_view_count": null,
      "_view_module": "@jupyter-widgets/base",
      "_view_module_version": "1.2.0",
      "_view_name": "LayoutView",
      "align_content": null,
      "align_items": null,
      "align_self": null,
      "border": null,
      "bottom": null,
      "display": null,
      "flex": null,
      "flex_flow": null,
      "grid_area": null,
      "grid_auto_columns": null,
      "grid_auto_flow": null,
      "grid_auto_rows": null,
      "grid_column": null,
      "grid_gap": null,
      "grid_row": null,
      "grid_template_areas": null,
      "grid_template_columns": null,
      "grid_template_rows": null,
      "height": null,
      "justify_content": null,
      "justify_items": null,
      "left": null,
      "margin": null,
      "max_height": null,
      "max_width": null,
      "min_height": null,
      "min_width": null,
      "object_fit": null,
      "object_position": null,
      "order": null,
      "overflow": null,
      "overflow_x": null,
      "overflow_y": null,
      "padding": null,
      "right": null,
      "top": null,
      "visibility": null,
      "width": null
     }
    },
    "8d29c6843c1f4e9ebdb2b3ed90bf4bdd": {
     "model_module": "@jupyter-widgets/controls",
     "model_module_version": "1.5.0",
     "model_name": "ProgressStyleModel",
     "state": {
      "_model_module": "@jupyter-widgets/controls",
      "_model_module_version": "1.5.0",
      "_model_name": "ProgressStyleModel",
      "_view_count": null,
      "_view_module": "@jupyter-widgets/base",
      "_view_module_version": "1.2.0",
      "_view_name": "StyleView",
      "bar_color": null,
      "description_width": ""
     }
    },
    "95c87735add34c4687d22a06c4ee8f32": {
     "model_module": "@jupyter-widgets/base",
     "model_module_version": "1.2.0",
     "model_name": "LayoutModel",
     "state": {
      "_model_module": "@jupyter-widgets/base",
      "_model_module_version": "1.2.0",
      "_model_name": "LayoutModel",
      "_view_count": null,
      "_view_module": "@jupyter-widgets/base",
      "_view_module_version": "1.2.0",
      "_view_name": "LayoutView",
      "align_content": null,
      "align_items": null,
      "align_self": null,
      "border": null,
      "bottom": null,
      "display": null,
      "flex": null,
      "flex_flow": null,
      "grid_area": null,
      "grid_auto_columns": null,
      "grid_auto_flow": null,
      "grid_auto_rows": null,
      "grid_column": null,
      "grid_gap": null,
      "grid_row": null,
      "grid_template_areas": null,
      "grid_template_columns": null,
      "grid_template_rows": null,
      "height": null,
      "justify_content": null,
      "justify_items": null,
      "left": null,
      "margin": null,
      "max_height": null,
      "max_width": null,
      "min_height": null,
      "min_width": null,
      "object_fit": null,
      "object_position": null,
      "order": null,
      "overflow": null,
      "overflow_x": null,
      "overflow_y": null,
      "padding": null,
      "right": null,
      "top": null,
      "visibility": null,
      "width": null
     }
    },
    "9829bd7a48254abbb2a700507b11b0f3": {
     "model_module": "@jupyter-widgets/base",
     "model_module_version": "1.2.0",
     "model_name": "LayoutModel",
     "state": {
      "_model_module": "@jupyter-widgets/base",
      "_model_module_version": "1.2.0",
      "_model_name": "LayoutModel",
      "_view_count": null,
      "_view_module": "@jupyter-widgets/base",
      "_view_module_version": "1.2.0",
      "_view_name": "LayoutView",
      "align_content": null,
      "align_items": null,
      "align_self": null,
      "border": null,
      "bottom": null,
      "display": null,
      "flex": null,
      "flex_flow": null,
      "grid_area": null,
      "grid_auto_columns": null,
      "grid_auto_flow": null,
      "grid_auto_rows": null,
      "grid_column": null,
      "grid_gap": null,
      "grid_row": null,
      "grid_template_areas": null,
      "grid_template_columns": null,
      "grid_template_rows": null,
      "height": null,
      "justify_content": null,
      "justify_items": null,
      "left": null,
      "margin": null,
      "max_height": null,
      "max_width": null,
      "min_height": null,
      "min_width": null,
      "object_fit": null,
      "object_position": null,
      "order": null,
      "overflow": null,
      "overflow_x": null,
      "overflow_y": null,
      "padding": null,
      "right": null,
      "top": null,
      "visibility": null,
      "width": null
     }
    },
    "9d3776ee4a1142eeaa7cde4c975358e5": {
     "model_module": "@jupyter-widgets/controls",
     "model_module_version": "1.5.0",
     "model_name": "DescriptionStyleModel",
     "state": {
      "_model_module": "@jupyter-widgets/controls",
      "_model_module_version": "1.5.0",
      "_model_name": "DescriptionStyleModel",
      "_view_count": null,
      "_view_module": "@jupyter-widgets/base",
      "_view_module_version": "1.2.0",
      "_view_name": "StyleView",
      "description_width": ""
     }
    },
    "a247c7ac279f40b8ade5909a39ac9a6d": {
     "model_module": "@jupyter-widgets/controls",
     "model_module_version": "1.5.0",
     "model_name": "HTMLModel",
     "state": {
      "_dom_classes": [],
      "_model_module": "@jupyter-widgets/controls",
      "_model_module_version": "1.5.0",
      "_model_name": "HTMLModel",
      "_view_count": null,
      "_view_module": "@jupyter-widgets/controls",
      "_view_module_version": "1.5.0",
      "_view_name": "HTMLView",
      "description": "",
      "description_tooltip": null,
      "layout": "IPY_MODEL_beb0d3f213d1437bbd8ed23d667cb237",
      "placeholder": "​",
      "style": "IPY_MODEL_f7e8892b81a5415b85844a2ddf503dd1",
      "value": "config.json: 100%"
     }
    },
    "a258654d3efd4a6eb83b6175192f67d7": {
     "model_module": "@jupyter-widgets/controls",
     "model_module_version": "1.5.0",
     "model_name": "HTMLModel",
     "state": {
      "_dom_classes": [],
      "_model_module": "@jupyter-widgets/controls",
      "_model_module_version": "1.5.0",
      "_model_name": "HTMLModel",
      "_view_count": null,
      "_view_module": "@jupyter-widgets/controls",
      "_view_module_version": "1.5.0",
      "_view_name": "HTMLView",
      "description": "",
      "description_tooltip": null,
      "layout": "IPY_MODEL_c08e6202ab7040dd92d4bd4b71f33602",
      "placeholder": "​",
      "style": "IPY_MODEL_c8764271275b493093691c9e18467deb",
      "value": " 48.0/48.0 [00:00&lt;00:00, 3.12kB/s]"
     }
    },
    "a8a47b1bf4d34e3db2b683f812687cc6": {
     "model_module": "@jupyter-widgets/controls",
     "model_module_version": "1.5.0",
     "model_name": "FloatProgressModel",
     "state": {
      "_dom_classes": [],
      "_model_module": "@jupyter-widgets/controls",
      "_model_module_version": "1.5.0",
      "_model_name": "FloatProgressModel",
      "_view_count": null,
      "_view_module": "@jupyter-widgets/controls",
      "_view_module_version": "1.5.0",
      "_view_name": "ProgressView",
      "bar_style": "success",
      "description": "",
      "description_tooltip": null,
      "layout": "IPY_MODEL_d8bf33568079426e9b9a479c3fb865f8",
      "max": 231508,
      "min": 0,
      "orientation": "horizontal",
      "style": "IPY_MODEL_31885fb5dc314252bda6594e50cba281",
      "value": 231508
     }
    },
    "b4c3d5591df1419687ae3f60d45367e0": {
     "model_module": "@jupyter-widgets/controls",
     "model_module_version": "1.5.0",
     "model_name": "HTMLModel",
     "state": {
      "_dom_classes": [],
      "_model_module": "@jupyter-widgets/controls",
      "_model_module_version": "1.5.0",
      "_model_name": "HTMLModel",
      "_view_count": null,
      "_view_module": "@jupyter-widgets/controls",
      "_view_module_version": "1.5.0",
      "_view_name": "HTMLView",
      "description": "",
      "description_tooltip": null,
      "layout": "IPY_MODEL_9829bd7a48254abbb2a700507b11b0f3",
      "placeholder": "​",
      "style": "IPY_MODEL_512721b34f524ccda3bd6a90e24b6a30",
      "value": "tokenizer.json: 100%"
     }
    },
    "beb0d3f213d1437bbd8ed23d667cb237": {
     "model_module": "@jupyter-widgets/base",
     "model_module_version": "1.2.0",
     "model_name": "LayoutModel",
     "state": {
      "_model_module": "@jupyter-widgets/base",
      "_model_module_version": "1.2.0",
      "_model_name": "LayoutModel",
      "_view_count": null,
      "_view_module": "@jupyter-widgets/base",
      "_view_module_version": "1.2.0",
      "_view_name": "LayoutView",
      "align_content": null,
      "align_items": null,
      "align_self": null,
      "border": null,
      "bottom": null,
      "display": null,
      "flex": null,
      "flex_flow": null,
      "grid_area": null,
      "grid_auto_columns": null,
      "grid_auto_flow": null,
      "grid_auto_rows": null,
      "grid_column": null,
      "grid_gap": null,
      "grid_row": null,
      "grid_template_areas": null,
      "grid_template_columns": null,
      "grid_template_rows": null,
      "height": null,
      "justify_content": null,
      "justify_items": null,
      "left": null,
      "margin": null,
      "max_height": null,
      "max_width": null,
      "min_height": null,
      "min_width": null,
      "object_fit": null,
      "object_position": null,
      "order": null,
      "overflow": null,
      "overflow_x": null,
      "overflow_y": null,
      "padding": null,
      "right": null,
      "top": null,
      "visibility": null,
      "width": null
     }
    },
    "c08e6202ab7040dd92d4bd4b71f33602": {
     "model_module": "@jupyter-widgets/base",
     "model_module_version": "1.2.0",
     "model_name": "LayoutModel",
     "state": {
      "_model_module": "@jupyter-widgets/base",
      "_model_module_version": "1.2.0",
      "_model_name": "LayoutModel",
      "_view_count": null,
      "_view_module": "@jupyter-widgets/base",
      "_view_module_version": "1.2.0",
      "_view_name": "LayoutView",
      "align_content": null,
      "align_items": null,
      "align_self": null,
      "border": null,
      "bottom": null,
      "display": null,
      "flex": null,
      "flex_flow": null,
      "grid_area": null,
      "grid_auto_columns": null,
      "grid_auto_flow": null,
      "grid_auto_rows": null,
      "grid_column": null,
      "grid_gap": null,
      "grid_row": null,
      "grid_template_areas": null,
      "grid_template_columns": null,
      "grid_template_rows": null,
      "height": null,
      "justify_content": null,
      "justify_items": null,
      "left": null,
      "margin": null,
      "max_height": null,
      "max_width": null,
      "min_height": null,
      "min_width": null,
      "object_fit": null,
      "object_position": null,
      "order": null,
      "overflow": null,
      "overflow_x": null,
      "overflow_y": null,
      "padding": null,
      "right": null,
      "top": null,
      "visibility": null,
      "width": null
     }
    },
    "c11fabd29c854b94a7736a769449aba0": {
     "model_module": "@jupyter-widgets/controls",
     "model_module_version": "1.5.0",
     "model_name": "DescriptionStyleModel",
     "state": {
      "_model_module": "@jupyter-widgets/controls",
      "_model_module_version": "1.5.0",
      "_model_name": "DescriptionStyleModel",
      "_view_count": null,
      "_view_module": "@jupyter-widgets/base",
      "_view_module_version": "1.2.0",
      "_view_name": "StyleView",
      "description_width": ""
     }
    },
    "c72da340f37a4e288b7a4d83f180fd91": {
     "model_module": "@jupyter-widgets/controls",
     "model_module_version": "1.5.0",
     "model_name": "HTMLModel",
     "state": {
      "_dom_classes": [],
      "_model_module": "@jupyter-widgets/controls",
      "_model_module_version": "1.5.0",
      "_model_name": "HTMLModel",
      "_view_count": null,
      "_view_module": "@jupyter-widgets/controls",
      "_view_module_version": "1.5.0",
      "_view_name": "HTMLView",
      "description": "",
      "description_tooltip": null,
      "layout": "IPY_MODEL_95c87735add34c4687d22a06c4ee8f32",
      "placeholder": "​",
      "style": "IPY_MODEL_74eec01c1fea4eefbd1c2678a71a6ac1",
      "value": " 570/570 [00:00&lt;00:00, 31.3kB/s]"
     }
    },
    "c8764271275b493093691c9e18467deb": {
     "model_module": "@jupyter-widgets/controls",
     "model_module_version": "1.5.0",
     "model_name": "DescriptionStyleModel",
     "state": {
      "_model_module": "@jupyter-widgets/controls",
      "_model_module_version": "1.5.0",
      "_model_name": "DescriptionStyleModel",
      "_view_count": null,
      "_view_module": "@jupyter-widgets/base",
      "_view_module_version": "1.2.0",
      "_view_name": "StyleView",
      "description_width": ""
     }
    },
    "d5b02a1af03543b4bdfc59aa85fef38a": {
     "model_module": "@jupyter-widgets/controls",
     "model_module_version": "1.5.0",
     "model_name": "HBoxModel",
     "state": {
      "_dom_classes": [],
      "_model_module": "@jupyter-widgets/controls",
      "_model_module_version": "1.5.0",
      "_model_name": "HBoxModel",
      "_view_count": null,
      "_view_module": "@jupyter-widgets/controls",
      "_view_module_version": "1.5.0",
      "_view_name": "HBoxView",
      "box_style": "",
      "children": [
       "IPY_MODEL_a247c7ac279f40b8ade5909a39ac9a6d",
       "IPY_MODEL_ff9218410a2740df8b5a068b721dc8e0",
       "IPY_MODEL_c72da340f37a4e288b7a4d83f180fd91"
      ],
      "layout": "IPY_MODEL_682f25f297564a4085b5d2a5c94a5925"
     }
    },
    "d8bf33568079426e9b9a479c3fb865f8": {
     "model_module": "@jupyter-widgets/base",
     "model_module_version": "1.2.0",
     "model_name": "LayoutModel",
     "state": {
      "_model_module": "@jupyter-widgets/base",
      "_model_module_version": "1.2.0",
      "_model_name": "LayoutModel",
      "_view_count": null,
      "_view_module": "@jupyter-widgets/base",
      "_view_module_version": "1.2.0",
      "_view_name": "LayoutView",
      "align_content": null,
      "align_items": null,
      "align_self": null,
      "border": null,
      "bottom": null,
      "display": null,
      "flex": null,
      "flex_flow": null,
      "grid_area": null,
      "grid_auto_columns": null,
      "grid_auto_flow": null,
      "grid_auto_rows": null,
      "grid_column": null,
      "grid_gap": null,
      "grid_row": null,
      "grid_template_areas": null,
      "grid_template_columns": null,
      "grid_template_rows": null,
      "height": null,
      "justify_content": null,
      "justify_items": null,
      "left": null,
      "margin": null,
      "max_height": null,
      "max_width": null,
      "min_height": null,
      "min_width": null,
      "object_fit": null,
      "object_position": null,
      "order": null,
      "overflow": null,
      "overflow_x": null,
      "overflow_y": null,
      "padding": null,
      "right": null,
      "top": null,
      "visibility": null,
      "width": null
     }
    },
    "dbb7ded42bf443998c989e8d9f735f42": {
     "model_module": "@jupyter-widgets/base",
     "model_module_version": "1.2.0",
     "model_name": "LayoutModel",
     "state": {
      "_model_module": "@jupyter-widgets/base",
      "_model_module_version": "1.2.0",
      "_model_name": "LayoutModel",
      "_view_count": null,
      "_view_module": "@jupyter-widgets/base",
      "_view_module_version": "1.2.0",
      "_view_name": "LayoutView",
      "align_content": null,
      "align_items": null,
      "align_self": null,
      "border": null,
      "bottom": null,
      "display": null,
      "flex": null,
      "flex_flow": null,
      "grid_area": null,
      "grid_auto_columns": null,
      "grid_auto_flow": null,
      "grid_auto_rows": null,
      "grid_column": null,
      "grid_gap": null,
      "grid_row": null,
      "grid_template_areas": null,
      "grid_template_columns": null,
      "grid_template_rows": null,
      "height": null,
      "justify_content": null,
      "justify_items": null,
      "left": null,
      "margin": null,
      "max_height": null,
      "max_width": null,
      "min_height": null,
      "min_width": null,
      "object_fit": null,
      "object_position": null,
      "order": null,
      "overflow": null,
      "overflow_x": null,
      "overflow_y": null,
      "padding": null,
      "right": null,
      "top": null,
      "visibility": null,
      "width": null
     }
    },
    "e1112437c6f64d30bb35dce368150ba4": {
     "model_module": "@jupyter-widgets/base",
     "model_module_version": "1.2.0",
     "model_name": "LayoutModel",
     "state": {
      "_model_module": "@jupyter-widgets/base",
      "_model_module_version": "1.2.0",
      "_model_name": "LayoutModel",
      "_view_count": null,
      "_view_module": "@jupyter-widgets/base",
      "_view_module_version": "1.2.0",
      "_view_name": "LayoutView",
      "align_content": null,
      "align_items": null,
      "align_self": null,
      "border": null,
      "bottom": null,
      "display": null,
      "flex": null,
      "flex_flow": null,
      "grid_area": null,
      "grid_auto_columns": null,
      "grid_auto_flow": null,
      "grid_auto_rows": null,
      "grid_column": null,
      "grid_gap": null,
      "grid_row": null,
      "grid_template_areas": null,
      "grid_template_columns": null,
      "grid_template_rows": null,
      "height": null,
      "justify_content": null,
      "justify_items": null,
      "left": null,
      "margin": null,
      "max_height": null,
      "max_width": null,
      "min_height": null,
      "min_width": null,
      "object_fit": null,
      "object_position": null,
      "order": null,
      "overflow": null,
      "overflow_x": null,
      "overflow_y": null,
      "padding": null,
      "right": null,
      "top": null,
      "visibility": null,
      "width": null
     }
    },
    "eab5087ada3347758d4568411b711ec1": {
     "model_module": "@jupyter-widgets/controls",
     "model_module_version": "1.5.0",
     "model_name": "HBoxModel",
     "state": {
      "_dom_classes": [],
      "_model_module": "@jupyter-widgets/controls",
      "_model_module_version": "1.5.0",
      "_model_name": "HBoxModel",
      "_view_count": null,
      "_view_module": "@jupyter-widgets/controls",
      "_view_module_version": "1.5.0",
      "_view_name": "HBoxView",
      "box_style": "",
      "children": [
       "IPY_MODEL_5a1d629084f543f29416c5d788528c19",
       "IPY_MODEL_08e94d5b52664e0da48cc5f8eebb0389",
       "IPY_MODEL_a258654d3efd4a6eb83b6175192f67d7"
      ],
      "layout": "IPY_MODEL_1b3f148b792f4e1192a041427f8d7ce0"
     }
    },
    "ed527609be714165895382af26616fbf": {
     "model_module": "@jupyter-widgets/controls",
     "model_module_version": "1.5.0",
     "model_name": "DescriptionStyleModel",
     "state": {
      "_model_module": "@jupyter-widgets/controls",
      "_model_module_version": "1.5.0",
      "_model_name": "DescriptionStyleModel",
      "_view_count": null,
      "_view_module": "@jupyter-widgets/base",
      "_view_module_version": "1.2.0",
      "_view_name": "StyleView",
      "description_width": ""
     }
    },
    "eeb504a49d884e91a2e400000b324475": {
     "model_module": "@jupyter-widgets/base",
     "model_module_version": "1.2.0",
     "model_name": "LayoutModel",
     "state": {
      "_model_module": "@jupyter-widgets/base",
      "_model_module_version": "1.2.0",
      "_model_name": "LayoutModel",
      "_view_count": null,
      "_view_module": "@jupyter-widgets/base",
      "_view_module_version": "1.2.0",
      "_view_name": "LayoutView",
      "align_content": null,
      "align_items": null,
      "align_self": null,
      "border": null,
      "bottom": null,
      "display": null,
      "flex": null,
      "flex_flow": null,
      "grid_area": null,
      "grid_auto_columns": null,
      "grid_auto_flow": null,
      "grid_auto_rows": null,
      "grid_column": null,
      "grid_gap": null,
      "grid_row": null,
      "grid_template_areas": null,
      "grid_template_columns": null,
      "grid_template_rows": null,
      "height": null,
      "justify_content": null,
      "justify_items": null,
      "left": null,
      "margin": null,
      "max_height": null,
      "max_width": null,
      "min_height": null,
      "min_width": null,
      "object_fit": null,
      "object_position": null,
      "order": null,
      "overflow": null,
      "overflow_x": null,
      "overflow_y": null,
      "padding": null,
      "right": null,
      "top": null,
      "visibility": null,
      "width": null
     }
    },
    "f1d2e55a528c44eb804ab67b75462799": {
     "model_module": "@jupyter-widgets/base",
     "model_module_version": "1.2.0",
     "model_name": "LayoutModel",
     "state": {
      "_model_module": "@jupyter-widgets/base",
      "_model_module_version": "1.2.0",
      "_model_name": "LayoutModel",
      "_view_count": null,
      "_view_module": "@jupyter-widgets/base",
      "_view_module_version": "1.2.0",
      "_view_name": "LayoutView",
      "align_content": null,
      "align_items": null,
      "align_self": null,
      "border": null,
      "bottom": null,
      "display": null,
      "flex": null,
      "flex_flow": null,
      "grid_area": null,
      "grid_auto_columns": null,
      "grid_auto_flow": null,
      "grid_auto_rows": null,
      "grid_column": null,
      "grid_gap": null,
      "grid_row": null,
      "grid_template_areas": null,
      "grid_template_columns": null,
      "grid_template_rows": null,
      "height": null,
      "justify_content": null,
      "justify_items": null,
      "left": null,
      "margin": null,
      "max_height": null,
      "max_width": null,
      "min_height": null,
      "min_width": null,
      "object_fit": null,
      "object_position": null,
      "order": null,
      "overflow": null,
      "overflow_x": null,
      "overflow_y": null,
      "padding": null,
      "right": null,
      "top": null,
      "visibility": null,
      "width": null
     }
    },
    "f6d657a772594014a38eb8bccb211ea5": {
     "model_module": "@jupyter-widgets/controls",
     "model_module_version": "1.5.0",
     "model_name": "HBoxModel",
     "state": {
      "_dom_classes": [],
      "_model_module": "@jupyter-widgets/controls",
      "_model_module_version": "1.5.0",
      "_model_name": "HBoxModel",
      "_view_count": null,
      "_view_module": "@jupyter-widgets/controls",
      "_view_module_version": "1.5.0",
      "_view_name": "HBoxView",
      "box_style": "",
      "children": [
       "IPY_MODEL_b4c3d5591df1419687ae3f60d45367e0",
       "IPY_MODEL_47dc552c3e2c427aac519d80feb08675",
       "IPY_MODEL_81574c1649f948df98b111c397896cd8"
      ],
      "layout": "IPY_MODEL_e1112437c6f64d30bb35dce368150ba4"
     }
    },
    "f7e8892b81a5415b85844a2ddf503dd1": {
     "model_module": "@jupyter-widgets/controls",
     "model_module_version": "1.5.0",
     "model_name": "DescriptionStyleModel",
     "state": {
      "_model_module": "@jupyter-widgets/controls",
      "_model_module_version": "1.5.0",
      "_model_name": "DescriptionStyleModel",
      "_view_count": null,
      "_view_module": "@jupyter-widgets/base",
      "_view_module_version": "1.2.0",
      "_view_name": "StyleView",
      "description_width": ""
     }
    },
    "ff9218410a2740df8b5a068b721dc8e0": {
     "model_module": "@jupyter-widgets/controls",
     "model_module_version": "1.5.0",
     "model_name": "FloatProgressModel",
     "state": {
      "_dom_classes": [],
      "_model_module": "@jupyter-widgets/controls",
      "_model_module_version": "1.5.0",
      "_model_name": "FloatProgressModel",
      "_view_count": null,
      "_view_module": "@jupyter-widgets/controls",
      "_view_module_version": "1.5.0",
      "_view_name": "ProgressView",
      "bar_style": "success",
      "description": "",
      "description_tooltip": null,
      "layout": "IPY_MODEL_dbb7ded42bf443998c989e8d9f735f42",
      "max": 570,
      "min": 0,
      "orientation": "horizontal",
      "style": "IPY_MODEL_16d6f0af23d149d8ae84e5391c9304ab",
      "value": 570
     }
    }
   }
  }
 },
 "nbformat": 4,
 "nbformat_minor": 4
}
